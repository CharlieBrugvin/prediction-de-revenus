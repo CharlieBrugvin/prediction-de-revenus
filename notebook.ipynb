{
 "cells": [
  {
   "cell_type": "code",
   "execution_count": 1,
   "metadata": {},
   "outputs": [],
   "source": [
    "import numpy as np\n",
    "import pandas as pd\n",
    "import matplotlib.pyplot as plt\n",
    "import scipy.stats as st\n",
    "from statsmodels.stats.outliers_influence import variance_inflation_factor\n",
    "\n",
    "# pour afficher dynamiquement dans le notebook\n",
    "from IPython.display import clear_output\n",
    "from IPython.display import display, Math, Markdown\n",
    "import time\n",
    "\n",
    "# pour le clustering : \n",
    "from sklearn.cluster import KMeans\n",
    "from sklearn.metrics import pairwise_distances_argmin_min\n",
    "from sklearn import preprocessing # normalisation des données\n",
    "\n",
    "import statsmodels.api as sm\n",
    "from statsmodels.formula.api import ols\n",
    "\n",
    "import json # pour le stockage de dict\n",
    "\n",
    "import iteround"
   ]
  },
  {
   "cell_type": "markdown",
   "metadata": {},
   "source": [
    "## Sommaire <a id=\"sommaire\">\n",
    "\n",
    "- [Préparation des données](#prep_donnees)\n",
    "    - [distribution des revenus](#prep-donnees-dist-reve)\n",
    "    - [indice de Gini](#prep-donnees-gini)\n",
    "    - [population](#prep-donnees-population)\n",
    "    - [Coefficient d'élasticité](#prep-donnees-elasticite)\n",
    "- [Mission 1](#mission-1)\n",
    "- [Mission 2](#mission-2)\n",
    "- [Mission 3](#mission-3) : [étape 1](#m3-step1), [2](#m3-step2), [3](#m3-step3), [4](#m3-step4), [5](#m3-step5), [6](#m3-step6), [7](#m3-step7), [8](#m3-step8), [9](#m3-step9), [10](#m3-step10), [11](#m3-step11)\n",
    "- [Mission 4](#mission-4)\n",
    "    - [ANOVA](#m4-anova)\n",
    "    - [Régressions linéaires](#m4-reg_lin)\n",
    "        - [Régression linéaire 1](#reg1) : \n",
    "            - [Version sans logarithme](#reg1-lin)\n",
    "            - [Version avec logarithme](#reg1-log)\n",
    "            - [Question 1](#reg1_q1)\n",
    "        - [Régression linéaire 2](#reg2) :\n",
    "            - [Version sans logarithme](#reg2-lin)\n",
    "            - [Version avec logarithme](#reg2-log)\n",
    "            - [Question 1](#reg2_q1)\n",
    "            - [Question 2](#reg2_q2)\n",
    "- [Prédiction finale](#prediction-finale)"
   ]
  },
  {
   "cell_type": "markdown",
   "metadata": {},
   "source": [
    "## Préparation des données <a id=\"prep_donnees\" href=\"#sommaire\" class=\"btn-sm btn-default\" >retour au sommaire</a>\n",
    "\n",
    "Pour chaque pays du monde, nous manipulerons :\n",
    "- La distribution des revenus\n",
    "- L'indice de Gini\n",
    "- La population\n",
    "- Le coefficient d'élasticité"
   ]
  },
  {
   "cell_type": "markdown",
   "metadata": {},
   "source": [
    "### Pays de références\n",
    "\n",
    "C'est la liste des codes iso des pays que nous considérons comme référence pour ce projet"
   ]
  },
  {
   "cell_type": "code",
   "execution_count": 135,
   "metadata": {},
   "outputs": [],
   "source": [
    "pays_ref = pd.read_csv('donnees/pays_ref.csv')\n",
    "pays_ref.set_index(pays_ref['iso3'], inplace=True)"
   ]
  },
  {
   "cell_type": "markdown",
   "metadata": {},
   "source": [
    "### Distribution des revenus <a id=\"prep-donnees-dist-reve\" href=\"#sommaire\" class=\"btn-sm btn-default\" >retour au sommaire</a>"
   ]
  },
  {
   "cell_type": "code",
   "execution_count": 136,
   "metadata": {},
   "outputs": [],
   "source": [
    "dist_revenus = pd.read_csv('donnees/world_income_distribution_04-11.csv', decimal=\",\")"
   ]
  },
  {
   "cell_type": "markdown",
   "metadata": {},
   "source": [
    "#### GDP PPP manquants\n",
    "\n",
    "Les valeurs du gdp ppp sont manquantes pour les pays Kosovo (XKX) et la Paléstine (PSE). On va les ajouter manuellement.\n",
    "\n",
    "Le gdp ppp des Fiji est de 4 millions, ce qui semble abérant. On va le remplacer.\n",
    "\n",
    "Sources :\n",
    "- <a href=\"https://www.indexmundi.com/fiji/gdp_per_capita_(ppp\\).html\"> GDP PPP des Fijis en 2008 </a>\n",
    "- [GDP PPP du Kosvo en 2008](https://www.ceicdata.com/en/indicator/kosovo/gdp-per-capita)\n",
    "- [GDP PPP de la Paléstine en 2009](https://www.theglobaleconomy.com/Palestine/GDP_per_capita_PPP/)"
   ]
  },
  {
   "cell_type": "code",
   "execution_count": 4,
   "metadata": {},
   "outputs": [],
   "source": [
    "dist_revenus.loc[dist_revenus['country'] == 'FJI', 'gdpppp'] = 6848.6\n",
    "dist_revenus.loc[dist_revenus['country'] == 'XKX', 'gdpppp'] = 3254.9\n",
    "dist_revenus.loc[dist_revenus['country'] == 'PSE', 'gdpppp'] = 4179.1"
   ]
  },
  {
   "cell_type": "markdown",
   "metadata": {},
   "source": [
    "#### quantiles manquants"
   ]
  },
  {
   "cell_type": "code",
   "execution_count": 5,
   "metadata": {
    "scrolled": true
   },
   "outputs": [
    {
     "data": {
      "text/html": [
       "<div>\n",
       "<style scoped>\n",
       "    .dataframe tbody tr th:only-of-type {\n",
       "        vertical-align: middle;\n",
       "    }\n",
       "\n",
       "    .dataframe tbody tr th {\n",
       "        vertical-align: top;\n",
       "    }\n",
       "\n",
       "    .dataframe thead th {\n",
       "        text-align: right;\n",
       "    }\n",
       "</style>\n",
       "<table border=\"1\" class=\"dataframe\">\n",
       "  <thead>\n",
       "    <tr style=\"text-align: right;\">\n",
       "      <th></th>\n",
       "      <th>quantile</th>\n",
       "    </tr>\n",
       "    <tr>\n",
       "      <th>country</th>\n",
       "      <th></th>\n",
       "    </tr>\n",
       "  </thead>\n",
       "  <tbody>\n",
       "    <tr>\n",
       "      <th>LTU</th>\n",
       "      <td>99</td>\n",
       "    </tr>\n",
       "  </tbody>\n",
       "</table>\n",
       "</div>"
      ],
      "text/plain": [
       "         quantile\n",
       "country          \n",
       "LTU            99"
      ]
     },
     "execution_count": 5,
     "metadata": {},
     "output_type": "execute_result"
    }
   ],
   "source": [
    "pays_nb_quantiles = dist_revenus[['country', 'quantile']].groupby('country').count()\n",
    "pays_nb_quantiles[pays_nb_quantiles['quantile'] != 100]"
   ]
  },
  {
   "cell_type": "code",
   "execution_count": 6,
   "metadata": {},
   "outputs": [],
   "source": [
    "ltu_quantiles = dist_revenus.loc[dist_revenus['country'] == 'LTU', 'quantile'].values"
   ]
  },
  {
   "cell_type": "code",
   "execution_count": 7,
   "metadata": {
    "scrolled": false
   },
   "outputs": [
    {
     "name": "stdout",
     "output_type": "stream",
     "text": [
      "41\n"
     ]
    }
   ],
   "source": [
    "for i in range(1,101):\n",
    "    if i not in ltu_quantiles: print(i)"
   ]
  },
  {
   "cell_type": "code",
   "execution_count": 8,
   "metadata": {},
   "outputs": [
    {
     "data": {
      "text/html": [
       "<div>\n",
       "<style scoped>\n",
       "    .dataframe tbody tr th:only-of-type {\n",
       "        vertical-align: middle;\n",
       "    }\n",
       "\n",
       "    .dataframe tbody tr th {\n",
       "        vertical-align: top;\n",
       "    }\n",
       "\n",
       "    .dataframe thead th {\n",
       "        text-align: right;\n",
       "    }\n",
       "</style>\n",
       "<table border=\"1\" class=\"dataframe\">\n",
       "  <thead>\n",
       "    <tr style=\"text-align: right;\">\n",
       "      <th></th>\n",
       "      <th>country</th>\n",
       "      <th>year_survey</th>\n",
       "      <th>quantile</th>\n",
       "      <th>nb_quantiles</th>\n",
       "      <th>income</th>\n",
       "      <th>gdpppp</th>\n",
       "    </tr>\n",
       "  </thead>\n",
       "  <tbody>\n",
       "    <tr>\n",
       "      <th>6239</th>\n",
       "      <td>LTU</td>\n",
       "      <td>2008</td>\n",
       "      <td>40</td>\n",
       "      <td>100</td>\n",
       "      <td>4868.4507</td>\n",
       "      <td>17571.0</td>\n",
       "    </tr>\n",
       "    <tr>\n",
       "      <th>6240</th>\n",
       "      <td>LTU</td>\n",
       "      <td>2008</td>\n",
       "      <td>42</td>\n",
       "      <td>100</td>\n",
       "      <td>4895.8306</td>\n",
       "      <td>17571.0</td>\n",
       "    </tr>\n",
       "  </tbody>\n",
       "</table>\n",
       "</div>"
      ],
      "text/plain": [
       "     country  year_survey  quantile  nb_quantiles     income   gdpppp\n",
       "6239     LTU         2008        40           100  4868.4507  17571.0\n",
       "6240     LTU         2008        42           100  4895.8306  17571.0"
      ]
     },
     "execution_count": 8,
     "metadata": {},
     "output_type": "execute_result"
    }
   ],
   "source": [
    "dist_revenus.loc[(dist_revenus['country'] == 'LTU') & (dist_revenus['quantile'].isin([40,42]))]"
   ]
  },
  {
   "cell_type": "markdown",
   "metadata": {},
   "source": [
    "**Il manque uniquement le quantile 41 de la Lithuanie**\n",
    "\n",
    "On va le deviner en faisant la moyenne du quantile 40 et 42"
   ]
  },
  {
   "cell_type": "code",
   "execution_count": 9,
   "metadata": {},
   "outputs": [],
   "source": [
    "q40_income = dist_revenus.loc[\n",
    "        (dist_revenus['country'] == 'LTU') & \n",
    "        (dist_revenus['quantile'] == 40), 'income'\n",
    "    ].values[0]\n",
    "\n",
    "q42_income = dist_revenus.loc[\n",
    "        (dist_revenus['country'] == 'LTU') & \n",
    "        (dist_revenus['quantile'] == 42), 'income'\n",
    "    ].values[0]"
   ]
  },
  {
   "cell_type": "code",
   "execution_count": 10,
   "metadata": {},
   "outputs": [],
   "source": [
    "dist_revenus.loc['6239a'] = ['LTU', 2008, 41, 100, (q40_income + q42_income) / 2, 17571.0]"
   ]
  },
  {
   "cell_type": "markdown",
   "metadata": {},
   "source": [
    "#### Liste de GDP PPP\n",
    "On va crééer un dataframe séparé qui ne contient que les GDP PPP"
   ]
  },
  {
   "cell_type": "code",
   "execution_count": 11,
   "metadata": {
    "scrolled": false
   },
   "outputs": [],
   "source": [
    "gdp_ppp = dist_revenus[['country', 'gdpppp']].drop_duplicates()\n",
    "gdp_ppp.set_index('country', inplace=True)"
   ]
  },
  {
   "cell_type": "code",
   "execution_count": 12,
   "metadata": {},
   "outputs": [
    {
     "data": {
      "text/html": [
       "<div>\n",
       "<style scoped>\n",
       "    .dataframe tbody tr th:only-of-type {\n",
       "        vertical-align: middle;\n",
       "    }\n",
       "\n",
       "    .dataframe tbody tr th {\n",
       "        vertical-align: top;\n",
       "    }\n",
       "\n",
       "    .dataframe thead th {\n",
       "        text-align: right;\n",
       "    }\n",
       "</style>\n",
       "<table border=\"1\" class=\"dataframe\">\n",
       "  <thead>\n",
       "    <tr style=\"text-align: right;\">\n",
       "      <th></th>\n",
       "      <th>gdpppp</th>\n",
       "    </tr>\n",
       "    <tr>\n",
       "      <th>country</th>\n",
       "      <th></th>\n",
       "    </tr>\n",
       "  </thead>\n",
       "  <tbody>\n",
       "    <tr>\n",
       "      <th>ALB</th>\n",
       "      <td>7297.0</td>\n",
       "    </tr>\n",
       "  </tbody>\n",
       "</table>\n",
       "</div>"
      ],
      "text/plain": [
       "         gdpppp\n",
       "country        \n",
       "ALB      7297.0"
      ]
     },
     "execution_count": 12,
     "metadata": {},
     "output_type": "execute_result"
    }
   ],
   "source": [
    "gdp_ppp.head(1)"
   ]
  },
  {
   "cell_type": "markdown",
   "metadata": {},
   "source": [
    "### Indice de Gini <a id=\"prep-donnees-gini\" href=\"#sommaire\" class=\"btn-sm btn-default\" >retour au sommaire</a>"
   ]
  },
  {
   "cell_type": "code",
   "execution_count": 13,
   "metadata": {},
   "outputs": [],
   "source": [
    "indice_gini = pd.read_csv('donnees/indice_gini_60-17.csv')\n",
    "indice_gini = indice_gini.set_index('Country Code')"
   ]
  },
  {
   "cell_type": "code",
   "execution_count": 14,
   "metadata": {},
   "outputs": [],
   "source": [
    "# on ne garde que les annees\n",
    "indice_gini = indice_gini[[ str(x) for x in range(1960, 2017) ]]"
   ]
  },
  {
   "cell_type": "code",
   "execution_count": 15,
   "metadata": {},
   "outputs": [],
   "source": [
    "# suppression des lignes avec que des valeurs nulles\n",
    "indice_gini = indice_gini.dropna(how='all')\n",
    "\n",
    "# suppression des colonnes avec que des valeurs nulles\n",
    "indice_gini = indice_gini.dropna(axis=1, how='all')"
   ]
  },
  {
   "cell_type": "markdown",
   "metadata": {},
   "source": [
    "#### Pays manquants"
   ]
  },
  {
   "cell_type": "code",
   "execution_count": 16,
   "metadata": {},
   "outputs": [
    {
     "data": {
      "text/plain": [
       "iso3\n",
       "POL    POL\n",
       "SRB    SRB\n",
       "KHM    KHM\n",
       "TWN    TWN\n",
       "PHL    PHL\n",
       "Name: iso3, dtype: object"
      ]
     },
     "execution_count": 16,
     "metadata": {},
     "output_type": "execute_result"
    }
   ],
   "source": [
    "m = ~np.isin(pays_ref['iso3'].values, indice_gini.index.values)\n",
    "pays_ref.loc[m, 'iso3']"
   ]
  },
  {
   "cell_type": "markdown",
   "metadata": {},
   "source": [
    "Certains pays de références (`pays_ref`) n'ont pas d'indice de Gini. On va les ajouter manuellement"
   ]
  },
  {
   "cell_type": "markdown",
   "metadata": {},
   "source": [
    "Sources : \n",
    "- [Pologne](http://perspective.usherbrooke.ca/bilan/servlet/BMTendanceStatPays?codeTheme=2&codeStat=PMQUANDL.GINI.V1&codePays=POL&optionsPeriodes=Aucune&codeTheme2=2&codeStat2=x&codePays2=POL&optionsDetPeriodes=avecNomP&langue=fr)\n",
    "- [Serbie](https://tradingeconomics.com/serbia/gini-index-wb-data.html)\n",
    "- [Cambodge](http://perspective.usherbrooke.ca/bilan/servlet/BMTendanceStatPays?codeTheme=2&codeStat=PMQUANDL.GINI.V1&codePays=KHM&optionsPeriodes=Aucune&codeTheme2=2&codeStat2=x&codePays2=POL&optionsDetPeriodes=avecNomP&langue=fr)\n",
    "- [Taiwan](https://www.researchgate.net/figure/Gini-Coefficients-in-Taiwan-1968-2010_fig3_311448696)\n",
    "- [Philippines](http://perspective.usherbrooke.ca/bilan/servlet/BMTendanceStatPays?codeTheme=2&codeStat=PMQUANDL.GINI.V1&codePays=PHL&optionsPeriodes=Aucune&codeTheme2=2&codeStat2=x&codePays2=POL&optionsDetPeriodes=avecNomP&langue=fr)"
   ]
  },
  {
   "cell_type": "code",
   "execution_count": 17,
   "metadata": {},
   "outputs": [],
   "source": [
    "indice_gini.loc['POL'] = np.nan\n",
    "gini_pol = {'1992':26.70, '2005':35.86, '2015':31.82}\n",
    "for annee in gini_pol:\n",
    "    indice_gini.loc['POL', annee] = gini_pol[annee]"
   ]
  },
  {
   "cell_type": "code",
   "execution_count": 18,
   "metadata": {},
   "outputs": [],
   "source": [
    "indice_gini.loc['SRB'] = np.nan\n",
    "gini_srb = {'1992':43.82, '2003':44.04, '2012':43.04}\n",
    "for annee in gini_srb:\n",
    "     indice_gini.loc['SRB', annee] = gini_srb[annee]"
   ]
  },
  {
   "cell_type": "code",
   "execution_count": 19,
   "metadata": {},
   "outputs": [],
   "source": [
    "indice_gini.loc['KHM'] = np.nan\n",
    "gini_khm = {'1994':38.15, '2004':35.46, '2012':30.76}\n",
    "for annee in gini_khm:\n",
    "     indice_gini.loc['KHM', annee] = gini_khm[annee]"
   ]
  },
  {
   "cell_type": "code",
   "execution_count": 20,
   "metadata": {},
   "outputs": [],
   "source": [
    "indice_gini.loc['TWN'] = np.nan\n",
    "gini_twn = {'1995':31.8, '2005':34, '2010':34.1}\n",
    "for annee in gini_twn:\n",
    "     indice_gini.loc['TWN', annee] = gini_twn[annee]"
   ]
  },
  {
   "cell_type": "code",
   "execution_count": 21,
   "metadata": {},
   "outputs": [],
   "source": [
    "indice_gini.loc['PHL'] = np.nan\n",
    "gini_phl = {'1994':38.52, '2003':44.04, '2012':43.04}\n",
    "for annee in gini_phl:\n",
    "     indice_gini.loc['PHL', annee] = gini_phl[annee]"
   ]
  },
  {
   "cell_type": "markdown",
   "metadata": {},
   "source": [
    "#### Indice Gini de référence\n",
    "On va déterminer un indice de Gini unique de référence pour chaque pays.\n",
    "\n",
    "Pour ce faire, on va calculer, pour chaque pays, **la moyenne de ces indices de Gini** sur la plus petite période qui contient au moins 1 indice de Gini par pays."
   ]
  },
  {
   "cell_type": "code",
   "execution_count": 22,
   "metadata": {},
   "outputs": [
    {
     "name": "stdout",
     "output_type": "stream",
     "text": [
      "CPU times: user 4 µs, sys: 0 ns, total: 4 µs\n",
      "Wall time: 7.39 µs\n"
     ]
    }
   ],
   "source": [
    "%time\n",
    "\n",
    "# --- on détermine la plus petite période qui contient au moins 1 indice de Gini par pays ---\n",
    "\n",
    "nb_pays_sans_ginis = lambda annees: (indice_gini.loc[:,annees].notna().sum(axis=1) == 0).sum()\n",
    "\n",
    "# on commence avec une valeur abérante pour forcer l'initialisation avec la 1ere solution trouvée\n",
    "plus_petit_intervalle_taille = 1000 \n",
    "plus_petit_intervalle = None\n",
    "# on enumere tout les intervalles d'années possibles sur la période 1979 - 2016\n",
    "for annee_d in range(1979,2017):\n",
    "    for annee_f in range(annee_d+1, 2017):\n",
    "        annees = [str(x) for x in range(annee_d, annee_f)]\n",
    "        # si on trouve un intervalle meilleur, on le garde\n",
    "        if nb_pays_sans_ginis(annees) == 0 and len(annees) < plus_petit_intervalle_taille:\n",
    "            plus_petit_intervalle_taille = len(annees)\n",
    "            plus_petit_intervalle = annees"
   ]
  },
  {
   "cell_type": "markdown",
   "metadata": {},
   "source": [
    "--> On trouve comme solution l'intervalle d'année 1992 - 2015"
   ]
  },
  {
   "cell_type": "code",
   "execution_count": 23,
   "metadata": {},
   "outputs": [],
   "source": [
    "# On stocke la moyenne de cette intervalle pour chaque pays\n",
    "indice_gini_ref = pd.DataFrame(indice_gini[plus_petit_intervalle].sum(axis=1) / indice_gini[plus_petit_intervalle].notna().sum(axis=1),\n",
    "                               columns=['gini_ref'])"
   ]
  },
  {
   "cell_type": "markdown",
   "metadata": {},
   "source": [
    "### Population <a id=\"prep-donnees-population\" href=\"#sommaire\" class=\"btn-sm btn-default\" >retour au sommaire</a>"
   ]
  },
  {
   "cell_type": "code",
   "execution_count": 24,
   "metadata": {},
   "outputs": [],
   "source": [
    "population = pd.read_csv('donnees/population_60-17.csv')\n",
    "population = population.set_index('Country Code')"
   ]
  },
  {
   "cell_type": "code",
   "execution_count": 25,
   "metadata": {},
   "outputs": [],
   "source": [
    "# on projette sur les annees\n",
    "population = population[[ str(x) for x in range(1960, 2017) ]]"
   ]
  },
  {
   "cell_type": "code",
   "execution_count": 26,
   "metadata": {},
   "outputs": [],
   "source": [
    "# suppression des lignes avec que des valeurs nulles\n",
    "population = population.dropna(how='all')\n",
    "\n",
    "# suppression des colonnes avec que des valeurs nulles\n",
    "population = population.dropna(axis=1, how='all')"
   ]
  },
  {
   "cell_type": "markdown",
   "metadata": {},
   "source": [
    "#### Population de référence\n",
    "\n",
    "On prend 2011 comme année de référence, car c'est l'année la plus récente qui contient la population de tout les pays."
   ]
  },
  {
   "cell_type": "code",
   "execution_count": 27,
   "metadata": {},
   "outputs": [],
   "source": [
    "population_ref = population[['2011']]\n",
    "population_ref.columns = ['population']"
   ]
  },
  {
   "cell_type": "code",
   "execution_count": 28,
   "metadata": {},
   "outputs": [
    {
     "data": {
      "text/html": [
       "<div>\n",
       "<style scoped>\n",
       "    .dataframe tbody tr th:only-of-type {\n",
       "        vertical-align: middle;\n",
       "    }\n",
       "\n",
       "    .dataframe tbody tr th {\n",
       "        vertical-align: top;\n",
       "    }\n",
       "\n",
       "    .dataframe thead th {\n",
       "        text-align: right;\n",
       "    }\n",
       "</style>\n",
       "<table border=\"1\" class=\"dataframe\">\n",
       "  <thead>\n",
       "    <tr style=\"text-align: right;\">\n",
       "      <th></th>\n",
       "      <th>population</th>\n",
       "    </tr>\n",
       "    <tr>\n",
       "      <th>Country Code</th>\n",
       "      <th></th>\n",
       "    </tr>\n",
       "  </thead>\n",
       "  <tbody>\n",
       "    <tr>\n",
       "      <th>ABW</th>\n",
       "      <td>102053.0</td>\n",
       "    </tr>\n",
       "    <tr>\n",
       "      <th>AFG</th>\n",
       "      <td>29708599.0</td>\n",
       "    </tr>\n",
       "  </tbody>\n",
       "</table>\n",
       "</div>"
      ],
      "text/plain": [
       "              population\n",
       "Country Code            \n",
       "ABW             102053.0\n",
       "AFG           29708599.0"
      ]
     },
     "execution_count": 28,
     "metadata": {},
     "output_type": "execute_result"
    }
   ],
   "source": [
    "population_ref.head(2)"
   ]
  },
  {
   "cell_type": "markdown",
   "metadata": {},
   "source": [
    "### Coefficient d'élasticitité <a id=\"prep-donnees-elasticite\" href=\"#sommaire\" class=\"btn-sm btn-default\" >retour au sommaire</a>\n",
    "\n",
    "On va appliquer à chaque pays son coefficient de région (qui est imprécis).\n",
    "\n",
    "Puis, on appliquera aux pays connus leur coefficient de pays (plus précis)."
   ]
  },
  {
   "cell_type": "code",
   "execution_count": 29,
   "metadata": {},
   "outputs": [],
   "source": [
    "# ouverture des coefficients de région / pays\n",
    "elasticite_pays = pd.read_csv('donnees/elasticite_pays.csv')\n",
    "elasticite_pays = elasticite_pays[['iso3', 'IGEincome']].drop_duplicates().dropna()\n",
    "\n",
    "elasticite_region = pd.read_csv('donnees/elasticite_regions.csv', decimal=',')"
   ]
  },
  {
   "cell_type": "code",
   "execution_count": 30,
   "metadata": {},
   "outputs": [
    {
     "data": {
      "text/plain": [
       "(75, 2)"
      ]
     },
     "execution_count": 30,
     "metadata": {},
     "output_type": "execute_result"
    }
   ],
   "source": [
    "elasticite_pays.shape"
   ]
  },
  {
   "cell_type": "code",
   "execution_count": 31,
   "metadata": {},
   "outputs": [],
   "source": [
    "# on applique a chaque pays le coefficient d'élasticité de sa région\n",
    "coef_elasticite = pays_ref.merge(elasticite_region, how='left', on='region')\n",
    "\n",
    "# puis, pour chaque pays pour lequel on a un coefficient plus précis\n",
    "# on l'utilise pour écraser le coefficient de la région\n",
    "for row in elasticite_pays.iterrows():\n",
    "    iso = row[1][0]\n",
    "    elasticite = row[1][1]\n",
    "    \n",
    "    if iso in coef_elasticite.iso3.values:\n",
    "        coef_elasticite.loc[coef_elasticite.iso3 == iso, 'elasticite'] = elasticite"
   ]
  },
  {
   "cell_type": "code",
   "execution_count": 32,
   "metadata": {},
   "outputs": [],
   "source": [
    "# on nettoie légèrement le DataFrame\n",
    "coef_elasticite = coef_elasticite[['iso3', 'elasticite']]\n",
    "coef_elasticite.set_index('iso3', inplace=True)"
   ]
  },
  {
   "cell_type": "markdown",
   "metadata": {},
   "source": [
    "## Mission 1 <a id=\"mission-1\" href=\"#sommaire\" class=\"btn-sm btn-default\" >retour au sommaire</a>"
   ]
  },
  {
   "cell_type": "markdown",
   "metadata": {},
   "source": [
    "#### Resumé des données"
   ]
  },
  {
   "cell_type": "markdown",
   "metadata": {},
   "source": [
    "<div class=\"panel panel-info\">\n",
    "  <div class=\"panel-heading\"> \n",
    "    Résumé des données\n",
    "  </div>\n",
    "  <div class=\"panel-body\">\n",
    "    Année(s) des données utilisées\n",
    "  </div>\n",
    "</div>"
   ]
  },
  {
   "cell_type": "code",
   "execution_count": 33,
   "metadata": {},
   "outputs": [],
   "source": [
    "dist_revenus_annees = np.sort(dist_revenus['year_survey'].unique())\n",
    "indice_gini_annees = indice_gini.columns.values\n",
    "population_annees = population.columns.values"
   ]
  },
  {
   "cell_type": "code",
   "execution_count": 34,
   "metadata": {
    "scrolled": false
   },
   "outputs": [
    {
     "name": "stdout",
     "output_type": "stream",
     "text": [
      "Distribution des revenus : \n",
      "2004, 2006, 2007, 2008, 2009, 2010, 2011, \n",
      "\n",
      "Indice de Gini : \n",
      "1979, 1980, 1981, 1982, 1983, 1984, 1985, 1986, 1987, 1988, 1989, 1990, 1991, 1992, 1993, 1994, 1995, 1996, 1997, 1998, 1999, 2000, 2001, 2002, 2003, 2004, 2005, 2006, 2007, 2008, 2009, 2010, 2011, 2012, 2013, 2014, 2015, 2016, \n",
      "\n",
      "Population :\n",
      "1960, 1961, 1962, 1963, 1964, 1965, 1966, 1967, 1968, 1969, 1970, 1971, 1972, 1973, 1974, 1975, 1976, 1977, 1978, 1979, 1980, 1981, 1982, 1983, 1984, 1985, 1986, 1987, 1988, 1989, 1990, 1991, 1992, 1993, 1994, 1995, 1996, 1997, 1998, 1999, 2000, 2001, 2002, 2003, 2004, 2005, 2006, 2007, 2008, 2009, 2010, 2011, 2012, 2013, 2014, 2015, 2016, "
     ]
    }
   ],
   "source": [
    "print('Distribution des revenus : ')\n",
    "for annee in dist_revenus_annees:\n",
    "    print(annee, end=', ')\n",
    "\n",
    "print('\\n\\nIndice de Gini : ')\n",
    "for annee in indice_gini_annees:\n",
    "    print(annee, end=', ')\n",
    "\n",
    "print('\\n\\nPopulation :')\n",
    "for annee in population_annees:\n",
    "    print(annee, end=', ')"
   ]
  },
  {
   "cell_type": "markdown",
   "metadata": {},
   "source": [
    "<div class=\"panel panel-info\">\n",
    "  <div class=\"panel-heading\"> \n",
    "    Résumé des données\n",
    "  </div>\n",
    "  <div class=\"panel-body\">\n",
    "    Nombre de pays présents\n",
    "  </div>\n",
    "</div>"
   ]
  },
  {
   "cell_type": "code",
   "execution_count": 35,
   "metadata": {},
   "outputs": [],
   "source": [
    "# on stocke la liste des pays présents dans les 3 dataframes\n",
    "dist_revenus_pays = dist_revenus.country.unique()\n",
    "indice_gini_pays = indice_gini.index.values\n",
    "population_pays = population.index.values"
   ]
  },
  {
   "cell_type": "code",
   "execution_count": 36,
   "metadata": {
    "scrolled": true
   },
   "outputs": [
    {
     "name": "stdout",
     "output_type": "stream",
     "text": [
      "\n",
      "Distribution des revenus  116 pays\n",
      "Indice de Gini            166 pays\n",
      "Population                263 pays et régions\n",
      "\n"
     ]
    }
   ],
   "source": [
    "print(f\"\"\"\n",
    "Distribution des revenus  { len(dist_revenus_pays) } pays\n",
    "Indice de Gini            { len(indice_gini_pays) } pays\n",
    "Population                { len(population_pays) } pays et régions\n",
    "\"\"\")"
   ]
  },
  {
   "cell_type": "markdown",
   "metadata": {},
   "source": [
    "<div class=\"panel panel-info\">\n",
    "  <div class=\"panel-heading\"> \n",
    "    Résumé des données\n",
    "  </div>\n",
    "  <div class=\"panel-body\">\n",
    "    Population couverte par l'analyse (en termes de pourcentage de la population mondiale)\n",
    "  </div>\n",
    "</div>"
   ]
  },
  {
   "cell_type": "markdown",
   "metadata": {},
   "source": [
    "On considère seulement les pays qui ont au moins :\n",
    "- 1 indice de Gini\n",
    "- 1 distribution de revenus"
   ]
  },
  {
   "cell_type": "code",
   "execution_count": 37,
   "metadata": {},
   "outputs": [],
   "source": [
    "# On ne garde que les pays qui sont dans dist_revenus_pays ET indice_gini_pays\n",
    "pays = np.intersect1d(dist_revenus_pays, indice_gini_pays)"
   ]
  },
  {
   "cell_type": "code",
   "execution_count": 38,
   "metadata": {
    "scrolled": false
   },
   "outputs": [
    {
     "data": {
      "text/plain": [
       "True"
      ]
     },
     "execution_count": 38,
     "metadata": {},
     "output_type": "execute_result"
    }
   ],
   "source": [
    "# Sont-ils tous présents dans population ?\n",
    "np.isin(pays, population.index).any()"
   ]
  },
  {
   "cell_type": "code",
   "execution_count": 39,
   "metadata": {},
   "outputs": [
    {
     "name": "stderr",
     "output_type": "stream",
     "text": [
      "/home/charlie/anaconda3/lib/python3.6/site-packages/pandas/core/indexing.py:1027: FutureWarning: \n",
      "Passing list-likes to .loc or [] with any missing label will raise\n",
      "KeyError in the future, you can use .reindex() as an alternative.\n",
      "\n",
      "See the documentation here:\n",
      "https://pandas.pydata.org/pandas-docs/stable/indexing.html#deprecate-loc-reindex-listlike\n",
      "  return getattr(section, self.name)[new_key]\n"
     ]
    }
   ],
   "source": [
    "# Calcul de population totale des ces pays\n",
    "pop_couverte_11 = population.loc[pays, '2011'].sum()\n",
    "\n",
    "# et recuperation de la population mondiale\n",
    "pop_monde_11 = population_ref.loc['WLD'].values[0]"
   ]
  },
  {
   "cell_type": "code",
   "execution_count": 40,
   "metadata": {
    "scrolled": false
   },
   "outputs": [
    {
     "name": "stdout",
     "output_type": "stream",
     "text": [
      "91% de la population est couverte\n"
     ]
    }
   ],
   "source": [
    "print(f\"{pop_couverte_11 / pop_monde_11 * 100:.0f}% de la population est couverte\")"
   ]
  },
  {
   "cell_type": "markdown",
   "metadata": {},
   "source": [
    "<div class=\"panel panel-info\">\n",
    "  <div class=\"panel-heading\"> \n",
    "    Résumé des données\n",
    "  </div>\n",
    "  <div class=\"panel-body\">\n",
    "    Quelle est le type de quantile de la World Income Distribution ?\n",
    "  </div>\n",
    "</div>"
   ]
  },
  {
   "cell_type": "code",
   "execution_count": 41,
   "metadata": {},
   "outputs": [
    {
     "data": {
      "text/plain": [
       "array([100])"
      ]
     },
     "execution_count": 41,
     "metadata": {},
     "output_type": "execute_result"
    }
   ],
   "source": [
    "# Quelles sont les quantiles présents ?\n",
    "dist_revenus.nb_quantiles.unique()"
   ]
  },
  {
   "cell_type": "markdown",
   "metadata": {},
   "source": [
    "Ce sont des centiles"
   ]
  },
  {
   "cell_type": "markdown",
   "metadata": {},
   "source": [
    "<div class=\"panel panel-info\">\n",
    "  <div class=\"panel-heading\"> \n",
    "    Résumé des données\n",
    "  </div>\n",
    "  <div class=\"panel-body\">\n",
    "    Échantillonner une population en utilisant des quantiles est-il selon vous une bonne méthode ? Pourquoi ?\n",
    "  </div>\n",
    "</div>"
   ]
  },
  {
   "cell_type": "markdown",
   "metadata": {},
   "source": [
    "Utiliser des centiles semblent pratique pour représenter la courbe de lorenz de manière compressée.\n",
    "Cette courbe permet de bien observer les inégalités au sein d'un pays.\n",
    "De plus, on peux facilement comparer deux pays dont la population serait différente."
   ]
  },
  {
   "cell_type": "code",
   "execution_count": 42,
   "metadata": {
    "scrolled": true
   },
   "outputs": [
    {
     "data": {
      "text/plain": [
       "Text(0,0.5,'revenus en $')"
      ]
     },
     "execution_count": 42,
     "metadata": {},
     "output_type": "execute_result"
    },
    {
     "data": {
      "image/png": "[encoded data removed]",
      "text/plain": [
       "<Figure size 432x288 with 1 Axes>"
      ]
     },
     "metadata": {},
     "output_type": "display_data"
    }
   ],
   "source": [
    "df = dist_revenus.loc[dist_revenus.country == 'FRA', ['income', 'quantile']]\n",
    "plt.plot(df['quantile'], df['income'])\n",
    "plt.title('Distribution de revenus en France')\n",
    "plt.xlabel('centiles')\n",
    "plt.ylabel('revenus en $')"
   ]
  },
  {
   "cell_type": "markdown",
   "metadata": {},
   "source": [
    "<div class=\"panel panel-info\">\n",
    "  <div class=\"panel-heading\"> \n",
    "    Résumé des données\n",
    "  </div>\n",
    "  <div class=\"panel-body\">\n",
    "    Qu'est ce que que *$PPP* ?\n",
    "  </div>\n",
    "</div>"
   ]
  },
  {
   "cell_type": "markdown",
   "metadata": {},
   "source": [
    "**Purchasing power parity**, **Parité Pouvoir d'Achat en Français**, permet de comparer le pouvoir d'achat au sein de différents pays. C'est une façon de normaliser le pouvoir d'achat de chaque pays (exprimé en PIB / hab / an) en le convertissant en une monnaie de référence."
   ]
  },
  {
   "cell_type": "code",
   "execution_count": 43,
   "metadata": {},
   "outputs": [
    {
     "data": {
      "text/html": [
       "<div>\n",
       "<style scoped>\n",
       "    .dataframe tbody tr th:only-of-type {\n",
       "        vertical-align: middle;\n",
       "    }\n",
       "\n",
       "    .dataframe tbody tr th {\n",
       "        vertical-align: top;\n",
       "    }\n",
       "\n",
       "    .dataframe thead th {\n",
       "        text-align: right;\n",
       "    }\n",
       "</style>\n",
       "<table border=\"1\" class=\"dataframe\">\n",
       "  <thead>\n",
       "    <tr style=\"text-align: right;\">\n",
       "      <th></th>\n",
       "      <th>gdpppp</th>\n",
       "    </tr>\n",
       "    <tr>\n",
       "      <th>country</th>\n",
       "      <th></th>\n",
       "    </tr>\n",
       "  </thead>\n",
       "  <tbody>\n",
       "    <tr>\n",
       "      <th>ALB</th>\n",
       "      <td>7297.0</td>\n",
       "    </tr>\n",
       "    <tr>\n",
       "      <th>ARG</th>\n",
       "      <td>13220.0</td>\n",
       "    </tr>\n",
       "  </tbody>\n",
       "</table>\n",
       "</div>"
      ],
      "text/plain": [
       "          gdpppp\n",
       "country         \n",
       "ALB       7297.0\n",
       "ARG      13220.0"
      ]
     },
     "execution_count": 43,
     "metadata": {},
     "output_type": "execute_result"
    }
   ],
   "source": [
    "gdp_ppp.head(2)"
   ]
  },
  {
   "cell_type": "markdown",
   "metadata": {},
   "source": [
    "## Mission 2 <a id=\"mission-2\" href=\"#sommaire\" class=\"btn-sm btn-default\" >retour au sommaire</a>"
   ]
  },
  {
   "cell_type": "markdown",
   "metadata": {},
   "source": [
    "<div class=\"panel panel-info\">\n",
    "  <div class=\"panel-heading\"> \n",
    "    Ennoncé\n",
    "  </div>\n",
    "  <div class=\"panel-body\">\n",
    "    Montrez la diversité des pays en termes de distribution de revenus à l'aide d'un graphique. Celui-ci représentera le revenu moyen (axe des ordonnées, sur une échelle logarithmique) de chacune des classes de revenus (axe des abscisses) pour 5 à 10 pays que vous aurez choisis pour montrer la diversité des cas.\n",
    "  </div>\n",
    "</div>"
   ]
  },
  {
   "cell_type": "markdown",
   "metadata": {},
   "source": [
    "#### Sélection des pays\n",
    "\n",
    "On va utiliser une méthode de clustering pour sélectionner automatiquement des pays qui sont différents entre eux."
   ]
  },
  {
   "cell_type": "markdown",
   "metadata": {},
   "source": [
    "##### Compilation des informations sur les pays\n",
    "\n",
    "On créé un DataFrame qui qui contient pour chaque pays les informations suivantes :\n",
    "- code iso3\n",
    "- indice de gini de référence\n",
    "- GDP PPP"
   ]
  },
  {
   "cell_type": "code",
   "execution_count": 44,
   "metadata": {},
   "outputs": [],
   "source": [
    "# on merge l'indice de gini et la gdp ppp\n",
    "pays_info = indice_gini_ref.merge(gdp_ppp, left_index=True, right_index=True)"
   ]
  },
  {
   "cell_type": "markdown",
   "metadata": {},
   "source": [
    "##### Sélection de 5-10 pays\n",
    "\n",
    "On va faire un clustering en 5 à 10 groupes pour rassembler les pays proches (et séparer les pays qui sont différents). on ne gardera que le pays moyen de chaque groupe.\n"
   ]
  },
  {
   "cell_type": "code",
   "execution_count": 45,
   "metadata": {},
   "outputs": [],
   "source": [
    "nb_cluster = 5\n",
    "\n",
    "# normalisation des donnees\n",
    "pays_info_norm = preprocessing.scale(pays_info)\n",
    "# Clustering avec la méthode des kmeans\n",
    "km = KMeans(n_clusters = nb_cluster).fit(pays_info_norm)\n",
    "# on determine les pays qui sont les plus proches des centroides des clusters\n",
    "i_pays_plus_proches, _ = pairwise_distances_argmin_min(km.cluster_centers_, pays_info_norm)"
   ]
  },
  {
   "cell_type": "markdown",
   "metadata": {},
   "source": [
    "Ressource :\n",
    "- [récuperer les points proches des centroides](https://stackoverflow.com/questions/21660937/get-nearest-point-to-centroid-scikit-learn)\n",
    "- [normalisation des données](https://machinelearningmastery.com/rescaling-data-for-machine-learning-in-python-with-scikit-learn/)"
   ]
  },
  {
   "cell_type": "code",
   "execution_count": 46,
   "metadata": {},
   "outputs": [
    {
     "data": {
      "text/html": [
       "<div>\n",
       "<style scoped>\n",
       "    .dataframe tbody tr th:only-of-type {\n",
       "        vertical-align: middle;\n",
       "    }\n",
       "\n",
       "    .dataframe tbody tr th {\n",
       "        vertical-align: top;\n",
       "    }\n",
       "\n",
       "    .dataframe thead th {\n",
       "        text-align: right;\n",
       "    }\n",
       "</style>\n",
       "<table border=\"1\" class=\"dataframe\">\n",
       "  <thead>\n",
       "    <tr style=\"text-align: right;\">\n",
       "      <th></th>\n",
       "      <th>gini_ref</th>\n",
       "      <th>gdpppp</th>\n",
       "    </tr>\n",
       "  </thead>\n",
       "  <tbody>\n",
       "    <tr>\n",
       "      <th>AUT</th>\n",
       "      <td>30.269231</td>\n",
       "      <td>36193.0</td>\n",
       "    </tr>\n",
       "    <tr>\n",
       "      <th>KOR</th>\n",
       "      <td>31.900000</td>\n",
       "      <td>19162.0</td>\n",
       "    </tr>\n",
       "    <tr>\n",
       "      <th>ECU</th>\n",
       "      <td>50.629412</td>\n",
       "      <td>7560.0</td>\n",
       "    </tr>\n",
       "    <tr>\n",
       "      <th>ARM</th>\n",
       "      <td>32.156250</td>\n",
       "      <td>5611.0</td>\n",
       "    </tr>\n",
       "    <tr>\n",
       "      <th>MAR</th>\n",
       "      <td>40.075000</td>\n",
       "      <td>3973.0</td>\n",
       "    </tr>\n",
       "  </tbody>\n",
       "</table>\n",
       "</div>"
      ],
      "text/plain": [
       "      gini_ref   gdpppp\n",
       "AUT  30.269231  36193.0\n",
       "KOR  31.900000  19162.0\n",
       "ECU  50.629412   7560.0\n",
       "ARM  32.156250   5611.0\n",
       "MAR  40.075000   3973.0"
      ]
     },
     "execution_count": 46,
     "metadata": {},
     "output_type": "execute_result"
    }
   ],
   "source": [
    "pays_representatifs_cluster = pays_info.iloc[i_pays_plus_proches].sort_values('gdpppp', ascending=False)\n",
    "pays_representatifs_cluster"
   ]
  },
  {
   "cell_type": "code",
   "execution_count": 47,
   "metadata": {},
   "outputs": [],
   "source": [
    "codes_pays_representatifs = pays_representatifs_cluster.index.values\n",
    "# pays = ['FRA', 'VNM', 'GHA', 'CZE']"
   ]
  },
  {
   "cell_type": "markdown",
   "metadata": {},
   "source": [
    "<div class=\"panel panel-info\">\n",
    "  <div class=\"panel-heading\"> \n",
    "    Ennoncé\n",
    "  </div>\n",
    "  <div class=\"panel-body\">\n",
    "   Représentez la courbe de Lorenz de chacun des pays choisis.\n",
    "  </div>\n",
    "</div>"
   ]
  },
  {
   "cell_type": "markdown",
   "metadata": {},
   "source": [
    "#### Affichage des courbes de Lorenz"
   ]
  },
  {
   "cell_type": "code",
   "execution_count": 48,
   "metadata": {
    "scrolled": false
   },
   "outputs": [
    {
     "data": {
      "text/plain": [
       "Text(0,0.5,'GDP PPP en $ (log)')"
      ]
     },
     "execution_count": 48,
     "metadata": {},
     "output_type": "execute_result"
    },
    {
     "data": {
      "image/png": "[encoded data removed]",
      "text/plain": [
       "<Figure size 720x504 with 1 Axes>"
      ]
     },
     "metadata": {},
     "output_type": "display_data"
    }
   ],
   "source": [
    "# initialisation de la figure\n",
    "fig = plt.figure(figsize=(10,7))\n",
    "ax = plt.gca()\n",
    "\n",
    "for code_pays in codes_pays_representatifs:\n",
    "        ax.plot(\n",
    "            range(1,101), \n",
    "            dist_revenus.loc[dist_revenus.country == code_pays, 'income'],\n",
    "            label=code_pays)\n",
    "    \n",
    "# on met l'axe y a l'échelle logarithmique\n",
    "ax.set_yscale('log')\n",
    "\n",
    "# on ajoute la légende et la grille\n",
    "plt.legend(loc='upper left')\n",
    "plt.grid(True)\n",
    "\n",
    "# on ajoute des titres\n",
    "plt.title('Courbe de Lorenz de différents pays')\n",
    "plt.xlabel('centiles de la population')\n",
    "plt.ylabel('GDP PPP en $ (log)')\n"
   ]
  },
  {
   "cell_type": "markdown",
   "metadata": {},
   "source": [
    "<div class=\"panel panel-info\">\n",
    "  <div class=\"panel-heading\"> \n",
    "    Ennoncé\n",
    "  </div>\n",
    "  <div class=\"panel-body\">\n",
    "   Pour chacun de ces pays, représentez l'évolution de l'indice de Gini au fil des ans.\n",
    "  </div>\n",
    "</div>"
   ]
  },
  {
   "cell_type": "code",
   "execution_count": 49,
   "metadata": {},
   "outputs": [
    {
     "data": {
      "text/html": [
       "<div>\n",
       "<style scoped>\n",
       "    .dataframe tbody tr th:only-of-type {\n",
       "        vertical-align: middle;\n",
       "    }\n",
       "\n",
       "    .dataframe tbody tr th {\n",
       "        vertical-align: top;\n",
       "    }\n",
       "\n",
       "    .dataframe thead th {\n",
       "        text-align: right;\n",
       "    }\n",
       "</style>\n",
       "<table border=\"1\" class=\"dataframe\">\n",
       "  <thead>\n",
       "    <tr style=\"text-align: right;\">\n",
       "      <th></th>\n",
       "      <th>iso3</th>\n",
       "      <th>region</th>\n",
       "    </tr>\n",
       "    <tr>\n",
       "      <th>iso3</th>\n",
       "      <th></th>\n",
       "      <th></th>\n",
       "    </tr>\n",
       "  </thead>\n",
       "  <tbody>\n",
       "    <tr>\n",
       "      <th>CAN</th>\n",
       "      <td>CAN</td>\n",
       "      <td>nordic_european_countries_and_canada</td>\n",
       "    </tr>\n",
       "    <tr>\n",
       "      <th>DNK</th>\n",
       "      <td>DNK</td>\n",
       "      <td>nordic_european_countries_and_canada</td>\n",
       "    </tr>\n",
       "    <tr>\n",
       "      <th>FIN</th>\n",
       "      <td>FIN</td>\n",
       "      <td>nordic_european_countries_and_canada</td>\n",
       "    </tr>\n",
       "    <tr>\n",
       "      <th>ISL</th>\n",
       "      <td>ISL</td>\n",
       "      <td>nordic_european_countries_and_canada</td>\n",
       "    </tr>\n",
       "    <tr>\n",
       "      <th>NOR</th>\n",
       "      <td>NOR</td>\n",
       "      <td>nordic_european_countries_and_canada</td>\n",
       "    </tr>\n",
       "    <tr>\n",
       "      <th>SWE</th>\n",
       "      <td>SWE</td>\n",
       "      <td>nordic_european_countries_and_canada</td>\n",
       "    </tr>\n",
       "    <tr>\n",
       "      <th>ALB</th>\n",
       "      <td>ALB</td>\n",
       "      <td>europe_except_nordic_countries</td>\n",
       "    </tr>\n",
       "    <tr>\n",
       "      <th>AUT</th>\n",
       "      <td>AUT</td>\n",
       "      <td>europe_except_nordic_countries</td>\n",
       "    </tr>\n",
       "    <tr>\n",
       "      <th>BEL</th>\n",
       "      <td>BEL</td>\n",
       "      <td>europe_except_nordic_countries</td>\n",
       "    </tr>\n",
       "    <tr>\n",
       "      <th>BGR</th>\n",
       "      <td>BGR</td>\n",
       "      <td>europe_except_nordic_countries</td>\n",
       "    </tr>\n",
       "  </tbody>\n",
       "</table>\n",
       "</div>"
      ],
      "text/plain": [
       "     iso3                                region\n",
       "iso3                                           \n",
       "CAN   CAN  nordic_european_countries_and_canada\n",
       "DNK   DNK  nordic_european_countries_and_canada\n",
       "FIN   FIN  nordic_european_countries_and_canada\n",
       "ISL   ISL  nordic_european_countries_and_canada\n",
       "NOR   NOR  nordic_european_countries_and_canada\n",
       "SWE   SWE  nordic_european_countries_and_canada\n",
       "ALB   ALB        europe_except_nordic_countries\n",
       "AUT   AUT        europe_except_nordic_countries\n",
       "BEL   BEL        europe_except_nordic_countries\n",
       "BGR   BGR        europe_except_nordic_countries"
      ]
     },
     "execution_count": 49,
     "metadata": {},
     "output_type": "execute_result"
    }
   ],
   "source": [
    "pays_ref.head(10)"
   ]
  },
  {
   "cell_type": "code",
   "execution_count": 50,
   "metadata": {
    "scrolled": false
   },
   "outputs": [
    {
     "data": {
      "text/plain": [
       "Text(0,0.5,'Indice de Gini')"
      ]
     },
     "execution_count": 50,
     "metadata": {},
     "output_type": "execute_result"
    },
    {
     "data": {
      "image/png": "[encoded data removed]",
      "text/plain": [
       "<Figure size 720x504 with 1 Axes>"
      ]
     },
     "metadata": {},
     "output_type": "display_data"
    }
   ],
   "source": [
    "# taille de la figure\n",
    "plt.figure(figsize=(10,7))\n",
    "\n",
    "for code_pays in codes_pays_representatifs:\n",
    "    # pour chaque pays, on détermine les gini et les années correspondantes\n",
    "    s = indice_gini.loc[code_pays, :].dropna()\n",
    "    values = s.values\n",
    "    years = s.index.values.astype(np.int)\n",
    "    # on plot une nouvelle ligne \n",
    "    plt.plot(years, values, '--', label=code_pays)\n",
    "\n",
    "# ajout de la légende et des titres\n",
    "plt.legend(loc='upper left')\n",
    "plt.title(\"Évolution de l'indice Gini de différents pays\")\n",
    "plt.xlabel('Années')\n",
    "plt.ylabel('Indice de Gini')"
   ]
  },
  {
   "cell_type": "markdown",
   "metadata": {},
   "source": [
    "<div class=\"panel panel-info\">\n",
    "  <div class=\"panel-heading\"> \n",
    "    Ennoncé\n",
    "  </div>\n",
    "  <div class=\"panel-body\">\n",
    "   Classez les pays par indice de Gini. Donnez la moyenne, les 5 pays ayant l'indice de Gini le plus élevé et les 5 pays ayant l'indice de Gini le plus faible. En quelle position se trouve la France ?\n",
    "  </div>\n",
    "</div>"
   ]
  },
  {
   "cell_type": "code",
   "execution_count": 51,
   "metadata": {},
   "outputs": [],
   "source": [
    "# ajout d'une colonne qui donne le rang de chaque pays\n",
    "# en fonction de son indice de gini de référence\n",
    "indice_gini_rank = indice_gini_ref.copy()\n",
    "indice_gini_rank['rank'] = indice_gini_rank['gini_ref'].rank(ascending=True)"
   ]
  },
  {
   "cell_type": "markdown",
   "metadata": {},
   "source": [
    "Les 5 pays avec le plus fort indice de Gini :"
   ]
  },
  {
   "cell_type": "code",
   "execution_count": 52,
   "metadata": {},
   "outputs": [
    {
     "data": {
      "text/html": [
       "<div>\n",
       "<style scoped>\n",
       "    .dataframe tbody tr th:only-of-type {\n",
       "        vertical-align: middle;\n",
       "    }\n",
       "\n",
       "    .dataframe tbody tr th {\n",
       "        vertical-align: top;\n",
       "    }\n",
       "\n",
       "    .dataframe thead th {\n",
       "        text-align: right;\n",
       "    }\n",
       "</style>\n",
       "<table border=\"1\" class=\"dataframe\">\n",
       "  <thead>\n",
       "    <tr style=\"text-align: right;\">\n",
       "      <th></th>\n",
       "      <th>gini_ref</th>\n",
       "      <th>rank</th>\n",
       "    </tr>\n",
       "    <tr>\n",
       "      <th>Country Code</th>\n",
       "      <th></th>\n",
       "      <th></th>\n",
       "    </tr>\n",
       "  </thead>\n",
       "  <tbody>\n",
       "    <tr>\n",
       "      <th>BWA</th>\n",
       "      <td>62.000000</td>\n",
       "      <td>166.0</td>\n",
       "    </tr>\n",
       "    <tr>\n",
       "      <th>ZAF</th>\n",
       "      <td>61.714286</td>\n",
       "      <td>165.0</td>\n",
       "    </tr>\n",
       "    <tr>\n",
       "      <th>NAM</th>\n",
       "      <td>61.133333</td>\n",
       "      <td>164.0</td>\n",
       "    </tr>\n",
       "    <tr>\n",
       "      <th>BLZ</th>\n",
       "      <td>57.733333</td>\n",
       "      <td>163.0</td>\n",
       "    </tr>\n",
       "    <tr>\n",
       "      <th>SUR</th>\n",
       "      <td>57.600000</td>\n",
       "      <td>162.0</td>\n",
       "    </tr>\n",
       "  </tbody>\n",
       "</table>\n",
       "</div>"
      ],
      "text/plain": [
       "               gini_ref   rank\n",
       "Country Code                  \n",
       "BWA           62.000000  166.0\n",
       "ZAF           61.714286  165.0\n",
       "NAM           61.133333  164.0\n",
       "BLZ           57.733333  163.0\n",
       "SUR           57.600000  162.0"
      ]
     },
     "execution_count": 52,
     "metadata": {},
     "output_type": "execute_result"
    }
   ],
   "source": [
    "indice_gini_rank[indice_gini_rank['rank'] >= len(indice_gini_rank)-4].sort_values('rank', ascending=False)"
   ]
  },
  {
   "cell_type": "markdown",
   "metadata": {},
   "source": [
    "Les 5 pays avec le plus faible indice de Gini :"
   ]
  },
  {
   "cell_type": "code",
   "execution_count": 53,
   "metadata": {},
   "outputs": [
    {
     "data": {
      "text/html": [
       "<div>\n",
       "<style scoped>\n",
       "    .dataframe tbody tr th:only-of-type {\n",
       "        vertical-align: middle;\n",
       "    }\n",
       "\n",
       "    .dataframe tbody tr th {\n",
       "        vertical-align: top;\n",
       "    }\n",
       "\n",
       "    .dataframe thead th {\n",
       "        text-align: right;\n",
       "    }\n",
       "</style>\n",
       "<table border=\"1\" class=\"dataframe\">\n",
       "  <thead>\n",
       "    <tr style=\"text-align: right;\">\n",
       "      <th></th>\n",
       "      <th>gini_ref</th>\n",
       "      <th>rank</th>\n",
       "    </tr>\n",
       "    <tr>\n",
       "      <th>Country Code</th>\n",
       "      <th></th>\n",
       "      <th></th>\n",
       "    </tr>\n",
       "  </thead>\n",
       "  <tbody>\n",
       "    <tr>\n",
       "      <th>AZE</th>\n",
       "      <td>23.366667</td>\n",
       "      <td>1.0</td>\n",
       "    </tr>\n",
       "    <tr>\n",
       "      <th>SVN</th>\n",
       "      <td>25.276923</td>\n",
       "      <td>2.0</td>\n",
       "    </tr>\n",
       "    <tr>\n",
       "      <th>CZE</th>\n",
       "      <td>26.385714</td>\n",
       "      <td>3.0</td>\n",
       "    </tr>\n",
       "    <tr>\n",
       "      <th>SVK</th>\n",
       "      <td>26.653846</td>\n",
       "      <td>4.0</td>\n",
       "    </tr>\n",
       "    <tr>\n",
       "      <th>DNK</th>\n",
       "      <td>26.700000</td>\n",
       "      <td>5.0</td>\n",
       "    </tr>\n",
       "  </tbody>\n",
       "</table>\n",
       "</div>"
      ],
      "text/plain": [
       "               gini_ref  rank\n",
       "Country Code                 \n",
       "AZE           23.366667   1.0\n",
       "SVN           25.276923   2.0\n",
       "CZE           26.385714   3.0\n",
       "SVK           26.653846   4.0\n",
       "DNK           26.700000   5.0"
      ]
     },
     "execution_count": 53,
     "metadata": {},
     "output_type": "execute_result"
    }
   ],
   "source": [
    "indice_gini_rank[indice_gini_rank['rank'] <= 5].sort_values('rank')"
   ]
  },
  {
   "cell_type": "code",
   "execution_count": 54,
   "metadata": {},
   "outputs": [],
   "source": [
    "fr_gini = indice_gini_rank.loc['FRA', 'gini_ref']\n",
    "fr_gini_rank = indice_gini_rank.loc['FRA', 'rank']"
   ]
  },
  {
   "cell_type": "code",
   "execution_count": 55,
   "metadata": {},
   "outputs": [
    {
     "name": "stdout",
     "output_type": "stream",
     "text": [
      "\n",
      "La France a un indice Gini de 32.09 (moyenne sur les années 2003-2015).\n",
      "Parmis les 166 pays listés, c'est le 33eme pays avec le plus faible indice.\n",
      "\n"
     ]
    }
   ],
   "source": [
    "print(f\"\"\"\n",
    "La France a un indice Gini de {fr_gini:.2f} (moyenne sur les années 2003-2015).\n",
    "Parmis les {len(indice_gini_rank)} pays listés, c'est le {fr_gini_rank:.0f}eme pays avec le plus faible indice.\n",
    "\"\"\")"
   ]
  },
  {
   "cell_type": "markdown",
   "metadata": {},
   "source": [
    "## Mission 3 <a id=\"mission-3\" href=\"#sommaire\" class=\"btn-sm btn-default\" >retour au sommaire</a>"
   ]
  },
  {
   "cell_type": "markdown",
   "metadata": {},
   "source": [
    "### Définition des fonctions"
   ]
  },
  {
   "cell_type": "code",
   "execution_count": 56,
   "metadata": {},
   "outputs": [],
   "source": [
    "# Cette fonction renvoie n salaire d'enfants\n",
    "# et les n salaires de parents respectifs\n",
    "\n",
    "# utilisée dans les étapes 1, 2 et 3\n",
    "\n",
    "def generate_incomes(n, pj):\n",
    "    # On génère les revenus des parents (exprimés en logs) selon une loi normale.\n",
    "    # La moyenne et variance n'ont aucune incidence sur le résultat final (ie. sur le caclul de la classe de revenu)\n",
    "    ln_y_parent = st.norm(0,1).rvs(size=n)\n",
    "    # Génération d'une réalisation du terme d'erreur epsilon\n",
    "    residues = st.norm(0,1).rvs(size=n)\n",
    "    # On calcule le salaire des enfant en fonction de la fonction linéaire\n",
    "    # et de l'indice d'élasticité pj\n",
    "    return np.exp(pj*ln_y_parent + residues), np.exp(ln_y_parent)"
   ]
  },
  {
   "cell_type": "code",
   "execution_count": 57,
   "metadata": {},
   "outputs": [],
   "source": [
    "# cette fonction prend en paramètre une serie l et un nb_quantile\n",
    "# et renvoie une série indiquant le quantile qui correspond a chaque valeur de l\n",
    "\n",
    "# elle n'est utilisée que dans compute_quantiles()\n",
    "\n",
    "def quantiles(l, nb_quantiles):\n",
    "    size = len(l)\n",
    "    # tri des valeurs de l\n",
    "    l_sorted = l.copy()\n",
    "    l_sorted = l_sorted.sort_values()\n",
    "    # permet d'identifier le quantile de chaque indice\n",
    "    quantiles = np.round(np.arange(1, nb_quantiles+1, nb_quantiles/size) -0.5 +1./size)\n",
    "    \n",
    "    # créé un dictionnaire {..., l_val:quantile_val, ...}\n",
    "    q_dict = {a:int(b) for a,b in zip(l_sorted,quantiles)}\n",
    "    # le renvoie sous forme de series\n",
    "    return pd.Series([q_dict[e] for e in l])\n",
    "\n",
    "# Cette fonction prend en parametre un array de revenues d'enfants,\n",
    "# un array de revenus de parents\n",
    "# et un nombre de quantiles\n",
    "# Elle renvoie un dataframe | y_child | y_parents | c_i_child | c_i_parents\n",
    "\n",
    "# utilisée dans l'étape 4\n",
    "\n",
    "def compute_quantiles(y_child, y_parents, nb_quantiles):\n",
    "    # on transforme en series les revenus\n",
    "    y_child = pd.Series(y_child)\n",
    "    y_parents = pd.Series(y_parents)\n",
    "    # on calcule les quantiles des parents / enfants\n",
    "    c_i_child = quantiles(y_child, nb_quantiles)\n",
    "    c_i_parent = quantiles(y_parents, nb_quantiles)\n",
    "    \n",
    "    # on met les colonnes cote a cote pour faire un dataframe\n",
    "    sample = pd.concat([y_child, y_parents, c_i_child, c_i_parent], axis=1)\n",
    "    sample.columns = [\"y_child\", \"y_parents\", \"c_i_child\",\"c_i_parent\"]\n",
    "    return sample"
   ]
  },
  {
   "cell_type": "code",
   "execution_count": 58,
   "metadata": {},
   "outputs": [],
   "source": [
    "# cette fonction prend en parametre le dataframe counts : c_i_child | c_i_parent | counts\n",
    "# pour une classe enfant fixé (c_i_child aura toujours la meme valeur)\n",
    "# c_i_parent spécifie la classe du parent, \n",
    "# et counts le nb d'individus qui ont ce couple(classe enfant/classe parent)\n",
    "\n",
    "# Elle renvoie la distribution des classes de revenu du parent pour la classe d'enfant\n",
    "# sour la forme d'un array 1D. i+1 étant la classe du parent\n",
    "\n",
    "# Cette fonction n'est utilisée que dans conditional_distributions()\n",
    "\n",
    "def distribution(counts, nb_quantiles):\n",
    "    distrib = []\n",
    "    # on compte le nombre totale d'individus\n",
    "    total = counts[\"counts\"].sum()\n",
    "    \n",
    "    # si il n'y a aucun individus on renvoie une ligne de 0\n",
    "    if total == 0 :\n",
    "        return [0] * nb_quantiles\n",
    "    \n",
    "    # pour chaque quantiles parents\n",
    "    for q_p in range(1, nb_quantiles+1):\n",
    "        # on ne garde que les lignes du quantile parent en cours\n",
    "        subset = counts[counts.c_i_parent == q_p]\n",
    "        # si la longueur n'est pas nulle\n",
    "        if len(subset):\n",
    "            # on ajoute au resultat la fréquence d'apparition de q_p\n",
    "            nb = subset[\"counts\"].values[0]\n",
    "            distrib += [nb / total]\n",
    "        else:\n",
    "            distrib += [0]\n",
    "    return distrib\n",
    "\n",
    "# prend en parametre le dataframe sample | y_child | y_parents | c_i_child | c_i_parents\n",
    "# et le nombre de quantiles\n",
    "# Renvoie une matrice a 2D :\n",
    "# - une ligne par quantile enfant\n",
    "# - au sein d'une ligne, on a la distribution des quantiles des parents\n",
    "# les valeurs peuvent être interprétées comme des probabilités 'c_parent sachant c_enfant'\n",
    "\n",
    "# utilisée dans l'étape 5\n",
    "\n",
    "def conditional_distributions(sample, nb_quantiles):\n",
    "    # on compte le nombre de d'individu (couple parent/enfant)  qu'il y a\n",
    "    # pour chaque paire de quantiles parent / enfant\n",
    "    counts = sample.groupby([\"c_i_child\",\"c_i_parent\"]).apply(len)\n",
    "    counts = counts.reset_index()\n",
    "    counts.columns = [\"c_i_child\",\"c_i_parent\",\"counts\"]\n",
    "    \n",
    "    mat = []\n",
    "    # enumeration des numeros des quantiles..\n",
    "    for child_quantile in np.arange(nb_quantiles)+1:\n",
    "        # on recupere les indivdus ou les enfants sont dans ce quantile\n",
    "        subset = counts[counts.c_i_child == child_quantile]\n",
    "        mat += [distribution(subset, nb_quantiles)]\n",
    "    return mat\n",
    "\n",
    "# un simple accesseur a la matrice de distribution conditionelle\n",
    "def proba_cond(c_i_parent, c_i_child, mat):\n",
    "    return mat[c_i_child][c_i_parent]"
   ]
  },
  {
   "cell_type": "code",
   "execution_count": 59,
   "metadata": {},
   "outputs": [],
   "source": [
    "# p est le coefficient d'élasticité\n",
    "# cd est la matrice des distributions conditionnelles\n",
    "\n",
    "# utilisée d'étape 6\n",
    "\n",
    "def plot_conditional_distributions(p, cd, nb_quantiles):\n",
    "    plt.figure()\n",
    "    \n",
    "    # La ligne suivante sert à afficher un graphique en \"stack bars\", sur ce modèle : https://matplotlib.org/gallery/lines_bars_and_markers/bar_stacked.html\n",
    "    cumul = np.array([0] * nb_quantiles)\n",
    "    \n",
    "    for i, child_quantile in enumerate(cd):\n",
    "        plt.bar(np.arange(nb_quantiles)+1, child_quantile, bottom=cumul, width=0.95, label = str(i+1) +\"e\")\n",
    "        cumul = cumul + np.array(child_quantile)\n",
    "\n",
    "    plt.axis([.5, nb_quantiles*1.3 ,0 ,1])\n",
    "    plt.title(\"p=\" + str(p))\n",
    "    plt.legend()\n",
    "    plt.xlabel(\"quantile parents\")\n",
    "    plt.ylabel(\"probabilité du quantile enfant\")\n",
    "    plt.show()"
   ]
  },
  {
   "cell_type": "code",
   "execution_count": 60,
   "metadata": {},
   "outputs": [],
   "source": [
    "# Cette fonction compile toute les précédente :\n",
    "# Elle prend en paramètre un coefficient d'élasticité pj et un nombre de quantiles\n",
    "# Elle renvoie la distribution conditionnelle sous forme de matrice\n",
    "# ou matrice[i,j] = P(c_j_parent | c_i_enfant )\n",
    "\n",
    "# utilisée dans l'étape 9\n",
    "\n",
    "def create_conditional_distributions_matrice(pj, nb_quantiles):\n",
    "    n  = 1000*nb_quantiles\n",
    "    y_child, y_parents = generate_incomes(n, pj)\n",
    "    sample = compute_quantiles(y_child, y_parents, nb_quantiles)\n",
    "    return conditional_distributions(sample, nb_quantiles)\n",
    "    "
   ]
  },
  {
   "cell_type": "code",
   "execution_count": 61,
   "metadata": {},
   "outputs": [],
   "source": [
    "# renvoie un array contenant n valeurs comprises dans 'values'.\n",
    "# la fréquence d'apparition des 'values' est donnée par le paramètre 'frequencies'\n",
    "\n",
    "# utilisée dans l'étape 9\n",
    "\n",
    "def get_values_from_frequencies(n, values, frequencies):\n",
    "    nb_values = iteround.saferound(np.array(frequencies) * n, 0)\n",
    "    nb_values = [int(x) for x in nb_values]\n",
    "    return np.concatenate([ np.full(nb, value) for value, nb in zip(values, nb_values) ])\n",
    "\n",
    "# Ressources : \n",
    "# - https://stackoverflow.com/questions/15769948/round-a-python-list-of-numbers-and-maintain-their-sum"
   ]
  },
  {
   "cell_type": "markdown",
   "metadata": {},
   "source": [
    "### Question de l'énnoncé"
   ]
  },
  {
   "cell_type": "markdown",
   "metadata": {},
   "source": [
    "<div class=\"panel panel-info\">\n",
    "  <div class=\"panel-heading\"> \n",
    "    1\n",
    "    <a id=\"m3-step1\" style=\"margin-left:20px\" href=\"#sommaire\" class=\"btn-sm btn-default\" > sommaire </a>\n",
    "  </div>\n",
    "  <div class=\"panel-body\">\n",
    "Générez un grand nombre $n$ de réalisations d'une variable que nous appellerons  $ln(Y_{parent})$ selon une loi normale. Le choix de la moyenne et de l'écart-type n'auront pas d'incidence sur le résultat final. $n$ doit être supérieur à 1000 fois le nombre de quantiles.\n",
    "  </div>\n",
    "</div>\n"
   ]
  },
  {
   "cell_type": "markdown",
   "metadata": {},
   "source": [
    "<div class=\"panel panel-info\">\n",
    "  <div class=\"panel-heading\"> \n",
    "    2\n",
    "    <a id=\"m3-step2\" style=\"margin-left:20px\" href=\"#sommaire\" class=\"btn-sm btn-default\" > sommaire </a>\n",
    "  </div>\n",
    "  <div class=\"panel-body\">\n",
    "Générez $n$ réalisations du terme d'erreur $\\epsilon$ selon une loi normale de moyenne 0 et d'écart-type 1.\n",
    "  </div>\n",
    "</div>\n"
   ]
  },
  {
   "cell_type": "markdown",
   "metadata": {},
   "source": [
    "<div class=\"panel panel-info\">\n",
    "  <div class=\"panel-heading\"> \n",
    "    3\n",
    "    <a id=\"m3-step3\" style=\"margin-left:20px\" href=\"#sommaire\" class=\"btn-sm btn-default\" > sommaire </a>\n",
    "  </div>\n",
    "  <div class=\"panel-body\">\n",
    "Pour une valeur donnée de $p_j$ (par exemple 0.9), calculez $y_{child} = e^{\\alpha+p_jln(y_{parent})+\\epsilon}$ . Le choix de $ \\alpha$ n'a aucune incidence sur le résultat final et peut être supprimé. A ce stade, $y_{child}$ contient des valeurs dont l'ordre de grandeur ne reflète pas la réalité, mais cela n'a pas d'influence pour la suite.\n",
    "  </div>\n",
    "</div>\n"
   ]
  },
  {
   "cell_type": "code",
   "execution_count": 62,
   "metadata": {},
   "outputs": [],
   "source": [
    "pj = 0.9                 # coefficient d'élasticité du pays j\n",
    "nb_quantiles = 10        # nombre de quantiles (nombre de classes de revenu)\n",
    "n  = 1000*nb_quantiles   # taille de l'échantillon"
   ]
  },
  {
   "cell_type": "code",
   "execution_count": 63,
   "metadata": {},
   "outputs": [],
   "source": [
    "y_child, y_parents = generate_incomes(n, pj)"
   ]
  },
  {
   "cell_type": "markdown",
   "metadata": {},
   "source": [
    "<div class=\"panel panel-info\">\n",
    "  <div class=\"panel-heading\"> \n",
    "    4\n",
    "    <a id=\"m3-step4\" style=\"margin-left:20px\" href=\"#sommaire\" class=\"btn-sm btn-default\" > sommaire </a>\n",
    "  </div>\n",
    "  <div class=\"panel-body\">\n",
    "Pour chacun des $n$ individus générés, calculez la classe de revenu  $c_{i,child}$ ainsi que la classe de revenu de ses parents $c_{i,parent}$ , à partir de $y_{child}$ et $y_{parent}$ .\n",
    "  </div>\n",
    "</div>"
   ]
  },
  {
   "cell_type": "code",
   "execution_count": 64,
   "metadata": {},
   "outputs": [],
   "source": [
    "sample = compute_quantiles(y_child, y_parents, nb_quantiles)"
   ]
  },
  {
   "cell_type": "markdown",
   "metadata": {},
   "source": [
    "<div class=\"panel panel-info\">\n",
    "  <div class=\"panel-heading\"> \n",
    "    5\n",
    "    <a id=\"m3-step5\" style=\"margin-left:20px\" href=\"#sommaire\" class=\"btn-sm btn-default\" > sommaire </a>\n",
    "  </div>\n",
    "  <div class=\"panel-body\">\n",
    "A partir de cette dernière information, estimez pour chaque  $c_{i,child}$ la distribution conditionnelle de $c_{i,parent}$ . Par exemple, si vous observez 6 individus ayant à la fois  $c_{i,child} = 5$ et $c_{i,parent} = 8$ , et que 200 individus sur 20000 ont $ c_{i,child} = 5$ , alors la probabilité d'avoir $ c_{i,parent} = 8$ sachant  $c_{i,child} = 5$ et sachant $p_j=0.9$ sera estimée à 6/200 (On note cette probabilité comme ceci : $P(c_{i,parent}=8|c_{i,child}=5,p_j=0.9) = 0.03$ ). Si votre population est divisée en $c$ classes de revenu, vous devriez alors avoir $c^2$ estimations de ces probabilités conditionnelles, pour chaque pays.\n",
    "  </div>\n",
    "</div>"
   ]
  },
  {
   "cell_type": "code",
   "execution_count": 65,
   "metadata": {},
   "outputs": [],
   "source": [
    "cd = conditional_distributions(sample, nb_quantiles)"
   ]
  },
  {
   "cell_type": "code",
   "execution_count": 66,
   "metadata": {
    "scrolled": true
   },
   "outputs": [
    {
     "name": "stdout",
     "output_type": "stream",
     "text": [
      "\n",
      "P(c_i_parent = 8 | c_i_child = 5, pj = 0.9) = 0.102\n"
     ]
    }
   ],
   "source": [
    "c_i_child = 5 \n",
    "c_i_parent = 8\n",
    "\n",
    "p = proba_cond(c_i_parent, c_i_child, cd)\n",
    "print(\"\\nP(c_i_parent = {} | c_i_child = {}, pj = {}) = {}\".format(c_i_parent, c_i_child, pj, p))"
   ]
  },
  {
   "cell_type": "markdown",
   "metadata": {},
   "source": [
    "<div class=\"panel panel-info\">\n",
    "  <div class=\"panel-heading\"> \n",
    "    6\n",
    "    <a id=\"m3-step6\" style=\"margin-left:20px\" href=\"#sommaire\" class=\"btn-sm btn-default\" > sommaire </a>\n",
    "  </div>\n",
    "  <div class=\"panel-body\">\n",
    "Optionnellement et pour vérifier la cohérence de votre code, vous pouvez créer un graphique représentant ces distributions conditionnelles. Voici 2 exemples pour une population segmentée en 10 classes, pour 2 valeurs de $p_j$ : l'une traduisant une forte mobilité (0.1) et l'autre une très faible mobilité (0.9) :\n",
    "  </div>\n",
    "</div>"
   ]
  },
  {
   "cell_type": "code",
   "execution_count": 67,
   "metadata": {},
   "outputs": [
    {
     "data": {
      "image/png": "[encoded data removed]",
      "text/plain": [
       "<Figure size 432x288 with 1 Axes>"
      ]
     },
     "metadata": {},
     "output_type": "display_data"
    }
   ],
   "source": [
    "plot_conditional_distributions(pj, cd, nb_quantiles) # Cette instruction prendra du temps si nb_quantiles > 10"
   ]
  },
  {
   "cell_type": "markdown",
   "metadata": {},
   "source": [
    "<div class=\"panel panel-info\">\n",
    "  <div class=\"panel-heading\"> \n",
    "    7\n",
    "    <a id=\"m3-step7\" style=\"margin-left:20px\" href=\"#sommaire\" class=\"btn-sm btn-default\" > sommaire </a>\n",
    "  </div>\n",
    "  <div class=\"panel-body\">\n",
    "    Éventuellement et pour éviter toute confusion, effacez les individus que vous venez de générer (nous n'en avons plus besoin), et ne gardez que les distributions conditionnelles.\n",
    "  </div>\n",
    "</div>"
   ]
  },
  {
   "cell_type": "code",
   "execution_count": 68,
   "metadata": {},
   "outputs": [],
   "source": [
    "del y_parents, y_child"
   ]
  },
  {
   "cell_type": "markdown",
   "metadata": {},
   "source": [
    "<div class=\"panel panel-info\">\n",
    " <div class=\"panel-heading\"> \n",
    "    8\n",
    "    <a id=\"m3-step8\" style=\"margin-left:20px\" href=\"#sommaire\" class=\"btn-sm btn-default\" > sommaire </a>\n",
    "  </div>\n",
    "  <div class=\"panel-body\">\n",
    "    Nous allons maintenant travailler sur un nouvel échantillon. Celui-ci sera créé à partir de la WID. Pour chaque individu de la Wold Income Distribution, créez-en 499 \"clones\". La taille de votre nouvel échantillon sera donc 500 fois plus grand que celui de la Wold Income Distribution.\n",
    "\n",
    "<br> <br>\n",
    "   \n",
    "**Note** : *Les individus ici, sont des informations sur les parents / enfants*\n",
    "  </div>\n",
    "</div>"
   ]
  },
  {
   "cell_type": "code",
   "execution_count": 69,
   "metadata": {},
   "outputs": [],
   "source": [
    "# on considère que chaque centile est un individu enfant : on ne garde que son pays, son quantile et son revenu\n",
    "dist_inter_gen = dist_revenus[['country', 'quantile', 'income']]\n",
    "dist_inter_gen.columns = ['country', 'c_i_child', 'income_child']\n",
    "\n",
    "# on créé 499 copies de chaques enfants\n",
    "dist_inter_gen = dist_inter_gen.append([dist_inter_gen]*499, ignore_index=True)\n",
    "\n",
    "# on initialise a 0 les classes parents a 0, elles seront déclarées plus tard\n",
    "dist_inter_gen['c_i_parent'] = 0"
   ]
  },
  {
   "cell_type": "code",
   "execution_count": 70,
   "metadata": {},
   "outputs": [],
   "source": [
    "# on change le type des colonnes pour optimiser le stockage\n",
    "dist_inter_gen['country'] = dist_inter_gen['country'].astype('category')\n",
    "dist_inter_gen['c_i_child'] = dist_inter_gen['c_i_child'].astype('int8')\n",
    "dist_inter_gen['c_i_parent'] = dist_inter_gen['c_i_parent'].astype('int8')"
   ]
  },
  {
   "cell_type": "markdown",
   "metadata": {},
   "source": [
    "<div class=\"panel panel-info\">\n",
    "  <div class=\"panel-heading\"> \n",
    "    9\n",
    "    <a id=\"m3-step9\" style=\"margin-left:20px\" href=\"#sommaire\" class=\"btn-sm btn-default\" > sommaire </a>\n",
    "  </div>\n",
    "  <div class=\"panel-body\">\n",
    "    Pour chaque $c_{i,child}$ et chaque pays, il y a maintenant 500 individus. Vous attribuerez aux 500 individus leurs classes $ c_{i,parent}$ conformément aux distributions trouvées précédemment. <br>\n",
    "Par exemple, si $P(c_{i,parent}=8 | c_{i,child}=5,p_j=0.9) = 0.03$ , alors vous assignerez la classe $c_{i,parent} = 8$ à 15 des 500 individus du pays $ j$ ayant $c_{i,child}=5$ , car 500*0.03 = 15.\n",
    "  </div>\n",
    "</div>"
   ]
  },
  {
   "cell_type": "markdown",
   "metadata": {},
   "source": [
    "#### Nous allons, dans un premier temps, générer les distributions conditionnelles des classes de revenues pour chaque pays, en fonction de son *coefficient d'elasticité*"
   ]
  },
  {
   "cell_type": "markdown",
   "metadata": {},
   "source": [
    "Le calcul des distributions conditionnelles étant long, il est possible de recharger la dernière calculée, qui a été stockée dans le le dossier `variable_cache`"
   ]
  },
  {
   "cell_type": "code",
   "execution_count": 72,
   "metadata": {},
   "outputs": [],
   "source": [
    "calculer_distributions_conditionnelles = False"
   ]
  },
  {
   "cell_type": "code",
   "execution_count": 73,
   "metadata": {
    "scrolled": true
   },
   "outputs": [
    {
     "name": "stdout",
     "output_type": "stream",
     "text": [
      "637.75s - pays 116/116\n",
      "            code iso : TLS, pj = 0.70\n",
      "            calcul de la distribution conditionnelle...\n",
      "\t-- Calcule fait --\n",
      "\n",
      "-> fichier enregistré au format JSON\n"
     ]
    }
   ],
   "source": [
    "# Attention, l'execution de cette cellule peut prendre du temps\n",
    "# pour une valeur élevée de quantiles :\n",
    "# pour 100 quantiles ~ 10 minutes d'execution\n",
    "\n",
    "if calculer_distributions_conditionnelles:\n",
    "    \n",
    "    # on calcule les distributions conditionnelles de chaque pays\n",
    "    \n",
    "    distributions_conditionnelles = {}\n",
    "    start_time = time.time()\n",
    "    for i, row in enumerate(coef_elasticite.iterrows()):\n",
    "        iso3 = row[0]\n",
    "        pj = row[1][0]\n",
    "\n",
    "        clear_output(' ')\n",
    "        print(f\"\"\"{time.time() - start_time:.2f}s - pays {i+1}/{len(coef_elasticite)}\n",
    "            code iso : {iso3}, pj = {pj:.2f}\n",
    "            calcul de la distribution conditionnelle...\"\"\")\n",
    "\n",
    "        cd = create_conditional_distributions_matrice(pj, nb_quantiles=100)\n",
    "        distributions_conditionnelles[iso3] = cd\n",
    "\n",
    "        print(f\"\\t-- Calcule fait --\")\n",
    "\n",
    "    # on enregistre en JSON les distributions conditionnelles\n",
    "    \n",
    "    with open('variable_cache/distributions_conditionnelles.json', 'w') as fp:\n",
    "        json.dump(distributions_conditionnelles, fp)\n",
    "    print(\"\\n-> fichier enregistré au format JSON\")"
   ]
  },
  {
   "cell_type": "code",
   "execution_count": 140,
   "metadata": {},
   "outputs": [],
   "source": [
    "# Ouvre le fichier distribution conditionnelle depuis le dossier variable_cache\n",
    "\n",
    "with open('variable_cache/distributions_conditionnelles.json', 'r') as fp:\n",
    "    distributions_conditionnelles = json.load(fp)"
   ]
  },
  {
   "cell_type": "markdown",
   "metadata": {},
   "source": [
    "##### Exemple"
   ]
  },
  {
   "cell_type": "code",
   "execution_count": 75,
   "metadata": {
    "scrolled": true
   },
   "outputs": [
    {
     "data": {
      "text/latex": [
       "$$P(c_{i,parent}=13 | c_{i,child}=85,p_{fra}=0.36) = 0.011$$"
      ],
      "text/plain": [
       "<IPython.core.display.Math object>"
      ]
     },
     "metadata": {},
     "output_type": "display_data"
    }
   ],
   "source": [
    "# paramètre\n",
    "# ----------\n",
    "pays = 'FRA'\n",
    "c_i_parent = 13\n",
    "# sachant..\n",
    "c_i_child = 85\n",
    "\n",
    "\n",
    "# affichage\n",
    "# ---------\n",
    "pj = coef_elasticite.loc[pays, 'elasticite']\n",
    "p = distributions_conditionnelles[pays][c_i_child][c_i_parent]\n",
    "\n",
    "# affichage dynamique de la formule\n",
    "display(Math(f'P(c_{{i,parent}}={c_i_parent} | c_{{i,child}}={c_i_child},p_{{{pays.lower()}}}={pj:.2f}) = {p}'))"
   ]
  },
  {
   "cell_type": "markdown",
   "metadata": {},
   "source": [
    "----------------\n",
    "\n",
    "#### Nous allons maintenant génerer, pour chaque couple (`country`,`c_i_child`) (500 individus), la classe des parents. "
   ]
  },
  {
   "cell_type": "markdown",
   "metadata": {},
   "source": [
    "D'abord, nous allons optimiser le DataFrame `dist_inter_gen` :\n",
    "\n",
    "on va rechercher les individus en fonction de leurs `country` et `c_i_child`. <br>\n",
    "comme il y a beaucoups de lignes (~6 millions), on va mettre en **multi-index** ces deux variable pour optimiser l'indexation (pandas utilise des index lexicaux et des recherches dichotomoques)"
   ]
  },
  {
   "cell_type": "code",
   "execution_count": 76,
   "metadata": {},
   "outputs": [
    {
     "data": {
      "text/html": [
       "<div>\n",
       "<style scoped>\n",
       "    .dataframe tbody tr th:only-of-type {\n",
       "        vertical-align: middle;\n",
       "    }\n",
       "\n",
       "    .dataframe tbody tr th {\n",
       "        vertical-align: top;\n",
       "    }\n",
       "\n",
       "    .dataframe thead th {\n",
       "        text-align: right;\n",
       "    }\n",
       "</style>\n",
       "<table border=\"1\" class=\"dataframe\">\n",
       "  <thead>\n",
       "    <tr style=\"text-align: right;\">\n",
       "      <th></th>\n",
       "      <th></th>\n",
       "      <th>income_child</th>\n",
       "      <th>c_i_parent</th>\n",
       "    </tr>\n",
       "    <tr>\n",
       "      <th>country</th>\n",
       "      <th>c_i_child</th>\n",
       "      <th></th>\n",
       "      <th></th>\n",
       "    </tr>\n",
       "  </thead>\n",
       "  <tbody>\n",
       "    <tr>\n",
       "      <th rowspan=\"2\" valign=\"top\">ALB</th>\n",
       "      <th>1</th>\n",
       "      <td>728.89795</td>\n",
       "      <td>0</td>\n",
       "    </tr>\n",
       "    <tr>\n",
       "      <th>1</th>\n",
       "      <td>728.89795</td>\n",
       "      <td>0</td>\n",
       "    </tr>\n",
       "  </tbody>\n",
       "</table>\n",
       "</div>"
      ],
      "text/plain": [
       "                   income_child  c_i_parent\n",
       "country c_i_child                          \n",
       "ALB     1             728.89795           0\n",
       "        1             728.89795           0"
      ]
     },
     "execution_count": 76,
     "metadata": {},
     "output_type": "execute_result"
    }
   ],
   "source": [
    "dist_inter_gen.set_index(['country', 'c_i_child'], inplace=True)\n",
    "dist_inter_gen.sort_index(inplace=True)\n",
    "\n",
    "dist_inter_gen.head(2)"
   ]
  },
  {
   "cell_type": "markdown",
   "metadata": {},
   "source": [
    "Nous pouvons ensuite calculer les `c_i_parents` pour chaque couple `(pays, c_i_child)`\n",
    "\n",
    "Le calcul étant long, il est possible de recharger la dernière calculée, qui a été stocké dans le le dossier `variable_cache`"
   ]
  },
  {
   "cell_type": "code",
   "execution_count": 137,
   "metadata": {},
   "outputs": [],
   "source": [
    "calculer_c_i_parents = False"
   ]
  },
  {
   "cell_type": "code",
   "execution_count": 138,
   "metadata": {
    "scrolled": false
   },
   "outputs": [],
   "source": [
    "# ATTENTION : l'execution de cette cellule prend ~ 2 minute\n",
    "\n",
    "if calculer_c_i_parents:\n",
    "    c_i_parents_values = np.arange(1,101, dtype='int8')\n",
    "    c_i_child_values = np.arange(1,101, dtype='int8')\n",
    "\n",
    "    start_time = time.time()\n",
    "\n",
    "    # pour chaque pays..\n",
    "    for i, code_pays in enumerate(pays_ref['iso3'].values):\n",
    "\n",
    "        # on recupere le coefficient d'élasticité du pays en cours\n",
    "        pj = coef_elasticite.loc[code_pays, 'elasticite']\n",
    "\n",
    "        # affichage de l'avancement..\n",
    "        clear_output(' ')\n",
    "        print(f\"\"\"{time.time() - start_time:.2f}s - pays {i+1}/{len(pays_ref)}\n",
    "            code iso : {code_pays}, pj = {pj:.2f}\"\"\")\n",
    "\n",
    "        # pour chaque classe d'enfants c_i_child\n",
    "        for c_i_child in c_i_child_values:\n",
    "\n",
    "            # on recupere la distribution des classes parents\n",
    "            dc = distributions_conditionnelles[code_pays][c_i_child-1]\n",
    "            # on calcule les valeurs en fonction de cette distribution\n",
    "            c_i_parents = get_values_from_frequencies(500, c_i_parents_values, frequencies = dc)\n",
    "\n",
    "            # on l'affecte aux 500 individus du (pays, c_i_child) en cours\n",
    "            dist_inter_gen.loc[(code_pays, c_i_child), 'c_i_parent'] = c_i_parents\n",
    "            \n",
    "    # on enregistre\n",
    "    dist_inter_gen.to_csv('variable_cache/dist_inter_gen.csv')\n",
    "    print(\"\\n-> dist_inter_gen enregistré au format CSV\")"
   ]
  },
  {
   "cell_type": "markdown",
   "metadata": {},
   "source": [
    "Une fois que l'ajout des `c_i_parents` a été faite, nous pouvons reconsidérer les colonnes `country` et `c_i_child` comme des variables."
   ]
  },
  {
   "cell_type": "code",
   "execution_count": 139,
   "metadata": {},
   "outputs": [],
   "source": [
    "# Ouvre le fichier dist_inter_gen du dossier cache\n",
    "dist_inter_gen = pd.read_csv('variable_cache/dist_inter_gen.csv')"
   ]
  },
  {
   "cell_type": "markdown",
   "metadata": {},
   "source": [
    "##### Vérification"
   ]
  },
  {
   "cell_type": "code",
   "execution_count": 83,
   "metadata": {
    "scrolled": true
   },
   "outputs": [
    {
     "data": {
      "text/plain": [
       "[<matplotlib.lines.Line2D at 0x7f02243339e8>]"
      ]
     },
     "execution_count": 83,
     "metadata": {},
     "output_type": "execute_result"
    },
    {
     "data": {
      "image/png": "[encoded data removed]",
      "text/plain": [
       "<Figure size 432x288 with 1 Axes>"
      ]
     },
     "metadata": {},
     "output_type": "display_data"
    }
   ],
   "source": [
    "# Pour vérifier, on peut comparer la distribution des individus\n",
    "# de dist_inter_gen avec la fréquence de distribution_conditionnelle\n",
    "\n",
    "pays = 'FRA'\n",
    "c_i_child = 13\n",
    "\n",
    "\n",
    "a=plt.hist(\n",
    "    dist_inter_gen.loc[(dist_inter_gen['country'] == pays) & (dist_inter_gen['c_i_child'] == c_i_child), 'c_i_parent'],\n",
    "    density=True, bins=100\n",
    ")\n",
    "plt.plot(distributions_conditionnelles[pays][c_i_child-1], 'x')"
   ]
  },
  {
   "cell_type": "markdown",
   "metadata": {},
   "source": [
    "<div class=\"panel panel-info\">\n",
    "  <div class=\"panel-heading\"> \n",
    "    10\n",
    "    <a id=\"m3-step10\" style=\"margin-left:20px\" href=\"#sommaire\" class=\"btn-sm btn-default\" > sommaire </a>\n",
    "  </div>\n",
    "  <div class=\"panel-body\">\n",
    "    Éventuellement et pour éviter toute confusion, effacez la variable $c_{i,child}$  : nous n'en avons pas besoin pour la mission 4.\n",
    "  </div>\n",
    "</div>"
   ]
  },
  {
   "cell_type": "code",
   "execution_count": 84,
   "metadata": {},
   "outputs": [],
   "source": [
    "dist_inter_gen.drop('c_i_child', axis=1, inplace=True)"
   ]
  },
  {
   "cell_type": "markdown",
   "metadata": {},
   "source": [
    "<div class=\"panel panel-info\">\n",
    "  <div class=\"panel-heading\"> \n",
    "    11\n",
    "    <a id=\"m3-step11\" style=\"margin-left:20px\" href=\"#sommaire\" class=\"btn-sm btn-default\" > sommaire </a>\n",
    "  </div>\n",
    "  <div class=\"panel-body\">\n",
    "    Assurez-vous que votre nouvel échantillon contiennent bien les variables initialement présentes dans la World income distribution : $ m_j $ et $ G_j $  .\n",
    "  <br> <br>\n",
    "  **NOTE** : $m_j$ est le salaire moyen et $G_j$ est l'indice de Gini\n",
    "  </div>\n",
    "</div>"
   ]
  },
  {
   "cell_type": "code",
   "execution_count": 85,
   "metadata": {},
   "outputs": [],
   "source": [
    "dist_inter_gen = dist_inter_gen.merge(gdp_ppp, how='left', left_on='country', right_index=True)\n",
    "dist_inter_gen = dist_inter_gen.merge(indice_gini_ref, how='left', left_on='country', right_index=True)"
   ]
  },
  {
   "cell_type": "code",
   "execution_count": 87,
   "metadata": {
    "scrolled": true
   },
   "outputs": [
    {
     "data": {
      "text/html": [
       "<div>\n",
       "<style scoped>\n",
       "    .dataframe tbody tr th:only-of-type {\n",
       "        vertical-align: middle;\n",
       "    }\n",
       "\n",
       "    .dataframe tbody tr th {\n",
       "        vertical-align: top;\n",
       "    }\n",
       "\n",
       "    .dataframe thead th {\n",
       "        text-align: right;\n",
       "    }\n",
       "</style>\n",
       "<table border=\"1\" class=\"dataframe\">\n",
       "  <thead>\n",
       "    <tr style=\"text-align: right;\">\n",
       "      <th></th>\n",
       "      <th>country</th>\n",
       "      <th>income_child</th>\n",
       "      <th>c_i_parent</th>\n",
       "      <th>gdpppp</th>\n",
       "      <th>gini_ref</th>\n",
       "    </tr>\n",
       "  </thead>\n",
       "  <tbody>\n",
       "    <tr>\n",
       "      <th>3871898</th>\n",
       "      <td>NER</td>\n",
       "      <td>438.87103</td>\n",
       "      <td>74</td>\n",
       "      <td>631.0</td>\n",
       "      <td>37.516667</td>\n",
       "    </tr>\n",
       "    <tr>\n",
       "      <th>926727</th>\n",
       "      <td>CIV</td>\n",
       "      <td>312.89670</td>\n",
       "      <td>50</td>\n",
       "      <td>1526.0</td>\n",
       "      <td>40.833333</td>\n",
       "    </tr>\n",
       "  </tbody>\n",
       "</table>\n",
       "</div>"
      ],
      "text/plain": [
       "        country  income_child  c_i_parent  gdpppp   gini_ref\n",
       "3871898     NER     438.87103          74   631.0  37.516667\n",
       "926727      CIV     312.89670          50  1526.0  40.833333"
      ]
     },
     "execution_count": 87,
     "metadata": {},
     "output_type": "execute_result"
    }
   ],
   "source": [
    "dist_inter_gen.sample(2)"
   ]
  },
  {
   "cell_type": "code",
   "execution_count": 88,
   "metadata": {},
   "outputs": [
    {
     "data": {
      "text/plain": [
       "(5800000, 5)"
      ]
     },
     "execution_count": 88,
     "metadata": {},
     "output_type": "execute_result"
    }
   ],
   "source": [
    "dist_inter_gen.shape"
   ]
  },
  {
   "cell_type": "markdown",
   "metadata": {},
   "source": [
    "## Mission 4 <a id=\"mission-4\" href=\"#sommaire\" class=\"btn-sm btn-default\" >retour au sommaire</a>\n",
    "\n",
    "Pour cette mission 4, nous chercherons à expliquer le revenu des individus en fonction de plusieurs variables explicatives : le pays de l'individu, l'indice de Gini de ce pays, la classe de revenus des parents, etc."
   ]
  },
  {
   "cell_type": "markdown",
   "metadata": {},
   "source": [
    "### ANOVA"
   ]
  },
  {
   "cell_type": "markdown",
   "metadata": {},
   "source": [
    "<div class=\"panel panel-info\">\n",
    "  <div class=\"panel-heading\"> \n",
    "    ANOVA\n",
    "    <a id=\"m4-anova\" style=\"margin-left:20px\" href=\"#sommaire\" class=\"btn-sm btn-default\" > sommaire </a>\n",
    "  </div>\n",
    "  <div class=\"panel-body\">\n",
    "    Appliquez une ANOVA sur vos données, en n’incluant comme variable explicative que le pays de l’individu. Analysez la performance du modèle.\n",
    "  </div>\n",
    "</div>"
   ]
  },
  {
   "cell_type": "code",
   "execution_count": 90,
   "metadata": {},
   "outputs": [
    {
     "data": {
      "text/plain": [
       "Text(0,0.5,'revenu moyen des enfants')"
      ]
     },
     "execution_count": 90,
     "metadata": {},
     "output_type": "execute_result"
    },
    {
     "data": {
      "image/png": "[encoded data removed]",
      "text/plain": [
       "<Figure size 2160x360 with 1 Axes>"
      ]
     },
     "metadata": {},
     "output_type": "display_data"
    }
   ],
   "source": [
    "plt.figure(figsize=(30,5))\n",
    "rs = plt.plot(dist_inter_gen.groupby('country').income_child.mean(), 'o')\n",
    "rs = plt.xticks(rotation=90)\n",
    "plt.xlabel('pays')\n",
    "plt.ylabel('revenu moyen des enfants')"
   ]
  },
  {
   "cell_type": "markdown",
   "metadata": {},
   "source": [
    "On constate bien une variation de la moyenne des revenus par pays. \n",
    "\n",
    "**On va la quantifier avec une ANOVA**\n",
    "\n",
    "-----------------"
   ]
  },
  {
   "cell_type": "markdown",
   "metadata": {},
   "source": [
    "Il y a 50 000 individus par pays, on ne va en garder que certains, au hasard, pour avoir un temps de calcul du modèle raisonnable."
   ]
  },
  {
   "cell_type": "code",
   "execution_count": 91,
   "metadata": {},
   "outputs": [],
   "source": [
    "nb_ind_pays = 5000\n",
    "dist_inter_gen_sample = (dist_inter_gen.groupby('country')\n",
    "                            .apply(lambda pop_pays: pop_pays.sample(nb_ind_pays))\n",
    "                            .reset_index(drop=True))"
   ]
  },
  {
   "cell_type": "markdown",
   "metadata": {},
   "source": [
    "Calcul du modèle"
   ]
  },
  {
   "cell_type": "code",
   "execution_count": 92,
   "metadata": {
    "scrolled": true
   },
   "outputs": [
    {
     "name": "stdout",
     "output_type": "stream",
     "text": [
      "CPU times: user 12.9 s, sys: 1.13 s, total: 14.1 s\n",
      "Wall time: 9 s\n"
     ]
    }
   ],
   "source": [
    "%%time\n",
    "\n",
    "# calcul du modèle\n",
    "anova_mod = ols('income_child ~ country', data=dist_inter_gen_sample).fit()\n",
    "\n",
    "# accès aux données qui nous intéressent\n",
    "\n",
    "anova_res = sm.stats.anova_lm(anova_mod, typ=2)\n",
    "\n",
    "fvaleur = anova_res['F'][0]\n",
    "pvaleur = anova_res['PR(>F)'][0]\n",
    "esq_sm = anova_res['sum_sq'][0]/(anova_res['sum_sq'][0]+anova_res['sum_sq'][1])"
   ]
  },
  {
   "cell_type": "code",
   "execution_count": 93,
   "metadata": {
    "scrolled": false
   },
   "outputs": [
    {
     "data": {
      "text/markdown": [
       "\n",
       "Notre modèle d'ANOVA est basé uniquement sur la variable qualitative `pays`. \n",
       "\n",
       "Il a *comme rapport de corrélation* $\\eta^2 = 0.50$. <br>\n",
       "$\\Rightarrow$ *ici, la $f$-valeur = 5054.66 et la $p$-valeur = 0.0. Il y a donc très peu de chance que cette valeur d'$\\eta^2$ soit liée au hasard.* \n",
       "\n",
       "On peut donc conclure que, dans le monde, **la variation de revenue** entre les personnes est expliquée à **50% par leurs pays d'origine**.\n"
      ],
      "text/plain": [
       "<IPython.core.display.Markdown object>"
      ]
     },
     "metadata": {},
     "output_type": "display_data"
    }
   ],
   "source": [
    "display(Markdown(f\"\"\"\n",
    "Notre modèle d'ANOVA est basé uniquement sur la variable qualitative `pays`. \n",
    "\n",
    "Il a *comme rapport de corrélation* $\\eta^2 = {esq_sm:.2f}$. <br>\n",
    "$\\Rightarrow$ *ici, la $f$-valeur = {fvaleur:.2f} et la $p$-valeur = {pvaleur}. Il y a donc très peu de chance que cette valeur d'$\\eta^2$ soit liée au hasard.* \n",
    "\n",
    "On peut donc conclure que, dans le monde, **la variation de revenue** entre les personnes est expliquée à **{esq_sm*100:.0f}% par leurs pays d'origine**.\n",
    "\"\"\"))"
   ]
  },
  {
   "cell_type": "markdown",
   "metadata": {},
   "source": [
    "### Régressions linéaires <a id=\"m4-reg_lin\" style=\"margin-left:20px\" href=\"#sommaire\" class=\"btn-sm btn-default\" > sommaire </a>"
   ]
  },
  {
   "cell_type": "markdown",
   "metadata": {},
   "source": [
    "Nous allons construire des régressions linéaire pour expliquer la variable `income_child`"
   ]
  },
  {
   "cell_type": "markdown",
   "metadata": {},
   "source": [
    "<div class=\"panel panel-info\">\n",
    "  <div class=\"panel-heading\"> \n",
    "    Régression linéaire 1\n",
    "    <a id=\"reg1\" style=\"margin-left:20px\" href=\"#sommaire\" class=\"btn-sm btn-default\" > sommaire </a>\n",
    "  </div>\n",
    "  <div class=\"panel-body\">\n",
    "   Appliquez une régression linéaire sur vos données, en n’incluant comme variables explicatives uniquement le revenu moyen du pays de l’individu et l’indice de Gini du pays de l’individu. Quel est le pourcentage de variance expliquée par votre modèle ?\n",
    "  </div>\n",
    "</div>"
   ]
  },
  {
   "cell_type": "code",
   "execution_count": 94,
   "metadata": {},
   "outputs": [],
   "source": [
    "# définition des variables\n",
    "reg1_X = dist_inter_gen[['gdpppp', 'gini_ref']]\n",
    "reg1_X = sm.add_constant(reg1_X)\n",
    "reg1_y = dist_inter_gen['income_child']"
   ]
  },
  {
   "cell_type": "markdown",
   "metadata": {},
   "source": [
    "#### Version sans logarithme <a id=\"reg1-lin\" style=\"margin-left:20px\" href=\"#sommaire\" class=\"btn-sm btn-default\" > sommaire </a>"
   ]
  },
  {
   "cell_type": "code",
   "execution_count": 95,
   "metadata": {},
   "outputs": [],
   "source": [
    "# calcul du modèle\n",
    "reg1_lin_mod = sm.OLS(reg1_y, reg1_X)\n",
    "reg1_lin_res = reg1_lin_mod.fit()"
   ]
  },
  {
   "cell_type": "markdown",
   "metadata": {},
   "source": [
    "##### Analyse des résidus"
   ]
  },
  {
   "cell_type": "markdown",
   "metadata": {},
   "source": [
    "[source](https://zhiyzuo.github.io/Linear-Regression-Diagnostic-in-Python/)"
   ]
  },
  {
   "cell_type": "code",
   "execution_count": 96,
   "metadata": {},
   "outputs": [],
   "source": [
    "# on fait un df contenant les résidus pour chaque valeur prédites\n",
    "reg1_lin_residual = (pd.concat([\n",
    "                reg1_lin_res.resid,\n",
    "                reg1_lin_res.fittedvalues\n",
    "            ], axis=1)\n",
    "     .drop_duplicates())\n",
    "\n",
    "reg1_lin_residual.columns = ['residual', 'val_pred']"
   ]
  },
  {
   "cell_type": "markdown",
   "metadata": {},
   "source": [
    "###### Normalité de leur distribution"
   ]
  },
  {
   "cell_type": "code",
   "execution_count": 97,
   "metadata": {},
   "outputs": [
    {
     "data": {
      "image/png": "[encoded data removed]",
      "text/plain": [
       "<Figure size 576x432 with 1 Axes>"
      ]
     },
     "metadata": {},
     "output_type": "display_data"
    }
   ],
   "source": [
    "# on affiche le Q-Q plot\n",
    "fig, ax = plt.subplots(figsize=(8,6))\n",
    "_ = st.probplot(reg1_lin_residual['residual'], plot=ax, fit=True)"
   ]
  },
  {
   "cell_type": "markdown",
   "metadata": {},
   "source": [
    "###### Égalité de leur variance"
   ]
  },
  {
   "cell_type": "code",
   "execution_count": 98,
   "metadata": {},
   "outputs": [
    {
     "data": {
      "image/png": "[encoded data removed]",
      "text/plain": [
       "<Figure size 576x432 with 1 Axes>"
      ]
     },
     "metadata": {},
     "output_type": "display_data"
    }
   ],
   "source": [
    "# on va afficher le nuage de la variance résiduelle\n",
    "fig = plt.figure(figsize=(8,6))\n",
    "plt.plot(reg1_lin_residual['val_pred'], reg1_lin_residual['residual'], '.', alpha=0.3)\n",
    "plt.xlabel('variable expliquée : log(income_child)')\n",
    "_ = plt.ylabel('résidus')"
   ]
  },
  {
   "cell_type": "markdown",
   "metadata": {},
   "source": [
    "Les résidus **ne suivent pas une loi normale** et on voit que **la variance des résidus n'est pas constante**.\n",
    "\n",
    "La relation n'est pas linéaire, **la régression linéaire n'est donc pas un modèle viable**.\n",
    "\n",
    "Etant donné que les variables de** revenus ont une tendance exponentiel** (selon les courbes de Lorenz), on va les mettre au **logarithme avant**."
   ]
  },
  {
   "cell_type": "markdown",
   "metadata": {},
   "source": [
    "#### Version avec logarithme <a id=\"reg1-log\" style=\"margin-left:20px\" href=\"#sommaire\" class=\"btn-sm btn-default\" > sommaire </a>"
   ]
  },
  {
   "cell_type": "code",
   "execution_count": 99,
   "metadata": {},
   "outputs": [],
   "source": [
    "# mise en logarithme du GDP PPP et de income child\n",
    "\n",
    "# variable explicative\n",
    "reg1_log_X = reg1_X.copy()\n",
    "reg1_log_X['gdpppp'] = np.log(reg1_log_X['gdpppp'])\n",
    "\n",
    "# variable expliquee\n",
    "reg1_log_y = reg1_y.copy()\n",
    "reg1_log_y = np.log(reg1_log_y)"
   ]
  },
  {
   "cell_type": "code",
   "execution_count": 100,
   "metadata": {},
   "outputs": [],
   "source": [
    "# calcul du modèle\n",
    "reg1_log_mod = sm.OLS(reg1_log_y, reg1_log_X)\n",
    "reg1_log_res = reg1_log_mod.fit()"
   ]
  },
  {
   "cell_type": "markdown",
   "metadata": {},
   "source": [
    "##### Test de significativité globale \n",
    "\n",
    "On va faire un test de type **F-ratio**"
   ]
  },
  {
   "cell_type": "code",
   "execution_count": 101,
   "metadata": {},
   "outputs": [],
   "source": [
    "reg1_log_fval = reg1_log_res.fvalue\n",
    "reg1_log_f_pval = reg1_log_res.f_pvalue"
   ]
  },
  {
   "cell_type": "code",
   "execution_count": 102,
   "metadata": {},
   "outputs": [
    {
     "data": {
      "text/markdown": [
       "\n",
       "la statistique de test **F vaut 5473316** (*p-valeur = 0.00*)\n"
      ],
      "text/plain": [
       "<IPython.core.display.Markdown object>"
      ]
     },
     "metadata": {},
     "output_type": "display_data"
    }
   ],
   "source": [
    "display(Markdown(\n",
    "f\"\"\"\n",
    "la statistique de test **F vaut {reg1_log_fval:.0f}** (*p-valeur = {reg1_log_f_pval:.2f}*)\n",
    "\"\"\"))"
   ]
  },
  {
   "cell_type": "markdown",
   "metadata": {},
   "source": [
    "On peut donc **rejeter $H_0$**, et affirmer que **les coefficients sont significativement non-nuls**."
   ]
  },
  {
   "cell_type": "markdown",
   "metadata": {},
   "source": [
    "##### Analyse des résidus"
   ]
  },
  {
   "cell_type": "code",
   "execution_count": 103,
   "metadata": {},
   "outputs": [],
   "source": [
    "# on fait un df contenant les résidus pour chaque valeur prédites\n",
    "reg1_log_residual = (pd.concat([\n",
    "                reg1_log_res.resid,\n",
    "                reg1_log_res.fittedvalues\n",
    "            ], axis=1)\n",
    "     .drop_duplicates())\n",
    "\n",
    "reg1_log_residual.columns = ['residual', 'val_pred']"
   ]
  },
  {
   "cell_type": "markdown",
   "metadata": {},
   "source": [
    "**Normalité de leur distribution**"
   ]
  },
  {
   "cell_type": "code",
   "execution_count": 104,
   "metadata": {},
   "outputs": [
    {
     "data": {
      "image/png": "[encoded data removed]",
      "text/plain": [
       "<Figure size 576x432 with 1 Axes>"
      ]
     },
     "metadata": {},
     "output_type": "display_data"
    }
   ],
   "source": [
    "fig, ax = plt.subplots(figsize=(8,6))\n",
    "_ = st.probplot(reg1_log_residual['residual'], plot=ax, fit=True)"
   ]
  },
  {
   "cell_type": "markdown",
   "metadata": {},
   "source": [
    "**Égalité de leur variance**"
   ]
  },
  {
   "cell_type": "code",
   "execution_count": 105,
   "metadata": {},
   "outputs": [
    {
     "data": {
      "image/png": "[encoded data removed]",
      "text/plain": [
       "<Figure size 576x432 with 1 Axes>"
      ]
     },
     "metadata": {},
     "output_type": "display_data"
    }
   ],
   "source": [
    "# on va afficher le nuage de la variance résiduelle\n",
    "fig = plt.figure(figsize=(8,6))\n",
    "plt.plot(reg1_log_residual['val_pred'], reg1_log_residual['residual'], '.', alpha=0.3)\n",
    "plt.xlabel('variable expliquée : log(income_child)')\n",
    "_ = plt.ylabel('résidus')"
   ]
  },
  {
   "cell_type": "markdown",
   "metadata": {},
   "source": [
    "Ici, on voit que **les résidus semblent suivre une loi normale** et que leur **variance est constante**.\n",
    "\n",
    "**La mise au logarithme a donc bien donnée une tendance linéaire aux données**."
   ]
  },
  {
   "cell_type": "markdown",
   "metadata": {},
   "source": [
    "**Indépendance linéaire**"
   ]
  },
  {
   "cell_type": "markdown",
   "metadata": {},
   "source": [
    "[Variance Inflation Factor](https://etav.github.io/python/vif_factor_python.html)"
   ]
  },
  {
   "cell_type": "code",
   "execution_count": 106,
   "metadata": {},
   "outputs": [],
   "source": [
    "reg1_log_vif = pd.DataFrame()\n",
    "reg1_log_vif[\"VIF Factor\"] = [variance_inflation_factor(reg1_log_X.values, i) for i in range(reg1_log_X.shape[1])]\n",
    "reg1_log_vif[\"features\"] = reg1_log_X.columns"
   ]
  },
  {
   "cell_type": "code",
   "execution_count": 107,
   "metadata": {},
   "outputs": [
    {
     "data": {
      "text/html": [
       "<div>\n",
       "<style scoped>\n",
       "    .dataframe tbody tr th:only-of-type {\n",
       "        vertical-align: middle;\n",
       "    }\n",
       "\n",
       "    .dataframe tbody tr th {\n",
       "        vertical-align: top;\n",
       "    }\n",
       "\n",
       "    .dataframe thead th {\n",
       "        text-align: right;\n",
       "    }\n",
       "</style>\n",
       "<table border=\"1\" class=\"dataframe\">\n",
       "  <thead>\n",
       "    <tr style=\"text-align: right;\">\n",
       "      <th></th>\n",
       "      <th>VIF Factor</th>\n",
       "      <th>features</th>\n",
       "    </tr>\n",
       "  </thead>\n",
       "  <tbody>\n",
       "    <tr>\n",
       "      <th>0</th>\n",
       "      <td>105.806752</td>\n",
       "      <td>const</td>\n",
       "    </tr>\n",
       "    <tr>\n",
       "      <th>1</th>\n",
       "      <td>1.117731</td>\n",
       "      <td>gdpppp</td>\n",
       "    </tr>\n",
       "    <tr>\n",
       "      <th>2</th>\n",
       "      <td>1.117731</td>\n",
       "      <td>gini_ref</td>\n",
       "    </tr>\n",
       "  </tbody>\n",
       "</table>\n",
       "</div>"
      ],
      "text/plain": [
       "   VIF Factor  features\n",
       "0  105.806752     const\n",
       "1    1.117731    gdpppp\n",
       "2    1.117731  gini_ref"
      ]
     },
     "execution_count": 107,
     "metadata": {},
     "output_type": "execute_result"
    }
   ],
   "source": [
    "reg1_log_vif"
   ]
  },
  {
   "cell_type": "markdown",
   "metadata": {},
   "source": [
    "Ici, le **VIF** de nos variables est faible (**<10**). On peut donc considérer qu'**il n'y a pas de problème de colinéarité**."
   ]
  },
  {
   "cell_type": "markdown",
   "metadata": {},
   "source": [
    "##### Individus hors normes"
   ]
  },
  {
   "cell_type": "markdown",
   "metadata": {},
   "source": [
    "[distance de Cooks](http://mpastell.com/2013/04/19/python_regression/)"
   ]
  },
  {
   "cell_type": "code",
   "execution_count": 108,
   "metadata": {},
   "outputs": [],
   "source": [
    "reg1_log_cooks_dist,_  = reg1_log_res.get_influence().cooks_distance"
   ]
  },
  {
   "cell_type": "code",
   "execution_count": 109,
   "metadata": {},
   "outputs": [],
   "source": [
    "# calcul du seuil, usuellement considéré a 4 / (n-p)\n",
    "n, p = reg1_log_X.shape\n",
    "reg1_log_cooks_seuil = 4 / (n-p)\n",
    "# on compte le nombre d'outliers\n",
    "reg1_log_nb_outlier = np.sum(reg1_log_cooks_dist > reg1_log_cooks_seuil)"
   ]
  },
  {
   "cell_type": "code",
   "execution_count": 110,
   "metadata": {},
   "outputs": [
    {
     "data": {
      "text/markdown": [
       "\n",
       "On considère que les individus ayant une **distance de Cooks > à 6.9e-07** sont des outliers influents.\n",
       "\n",
       "On en compte **336500**, soit **5.8%**.\n"
      ],
      "text/plain": [
       "<IPython.core.display.Markdown object>"
      ]
     },
     "metadata": {},
     "output_type": "display_data"
    }
   ],
   "source": [
    "display(Markdown(\n",
    "f\"\"\"\n",
    "On considère que les individus ayant une **distance de Cooks > à {reg1_log_cooks_seuil:.1e}** sont des outliers influents.\n",
    "\n",
    "On en compte **{reg1_log_nb_outlier}**, soit **{reg1_log_nb_outlier / n * 100:.1f}%**.\n",
    "\"\"\"))"
   ]
  },
  {
   "cell_type": "markdown",
   "metadata": {},
   "source": [
    "<div class=\"panel panel-info\">\n",
    "  <div class=\"panel-heading\"> \n",
    "    Question\n",
    "    <a id=\"reg1_q1\" style=\"margin-left:20px\" href=\"#sommaire\" class=\"btn-sm btn-default\" > sommaire </a>\n",
    "  </div>\n",
    "  <div class=\"panel-body\">\n",
    "   Selon ce modèle, donnez la décomposition de variance totale expliquée par :\n",
    "<ul>\n",
    "    <li> Le pays de naissance (ie. le revenu moyen et l’indice de Gini) </li>\n",
    "    <li> Les autres facteurs non considérés dans le modèle (efforts, chance, etc.) </li>\n",
    "</ul>\n",
    "  </div>\n",
    "</div>"
   ]
  },
  {
   "cell_type": "code",
   "execution_count": 111,
   "metadata": {},
   "outputs": [],
   "source": [
    "reg1_log_sct = reg1_log_res.centered_tss\n",
    "reg1_log_sce = reg1_log_res.ess\n",
    "reg1_log_scr = reg1_log_res.ssr\n",
    "reg1_log_r2 = reg1_log_res.rsquared"
   ]
  },
  {
   "cell_type": "code",
   "execution_count": 112,
   "metadata": {},
   "outputs": [
    {
     "data": {
      "text/markdown": [
       "\n",
       "La décomposition de la variance de notre modèle est : <br>\n",
       "\n",
       "**SCT = SCE + SCR**\n",
       "- SCT = 11062517 <br>\n",
       "- SCE = 7231145 <br>\n",
       "- SCR = 3831372 <br>\n",
       "\n",
       "Ce qui donne une valeur $R^2 = 0.65$\n",
       "\n",
       "Notre modèle explique donc **65% de la variance totale**.\n"
      ],
      "text/plain": [
       "<IPython.core.display.Markdown object>"
      ]
     },
     "metadata": {},
     "output_type": "display_data"
    }
   ],
   "source": [
    "display(Markdown(f\"\"\"\n",
    "La décomposition de la variance de notre modèle est : <br>\n",
    "\n",
    "**SCT = SCE + SCR**\n",
    "- SCT = {reg1_log_sct:.0f} <br>\n",
    "- SCE = {reg1_log_sce:.0f} <br>\n",
    "- SCR = {reg1_log_scr:.0f} <br>\n",
    "\n",
    "Ce qui donne une valeur $R^2 = {reg1_log_r2:.2f}$\n",
    "\n",
    "Notre modèle explique donc **{reg1_log_r2*100:.0f}% de la variance totale**.\n",
    "\"\"\"))"
   ]
  },
  {
   "cell_type": "markdown",
   "metadata": {},
   "source": [
    "<hr style='height:1px'>\n",
    "\n",
    "<div class=\"panel panel-info\">\n",
    "  <div class=\"panel-heading\"> \n",
    "   Régression linéaire 2\n",
    "   <a id=\"reg2\" style=\"margin-left:20px\" href=\"#sommaire\" class=\"btn-sm btn-default\" > sommaire </a>\n",
    "  </div>\n",
    "  <div class=\"panel-body\">\n",
    "   Améliorez le modèle précédent en incluant maintenant la classe de revenu des parents. Quel est le pourcentage de variance expliquée par ce nouveau modèle ?\n",
    "  </div>\n",
    "</div>"
   ]
  },
  {
   "cell_type": "code",
   "execution_count": 113,
   "metadata": {},
   "outputs": [],
   "source": [
    "# définition des variables\n",
    "reg2_X = dist_inter_gen[['gdpppp', 'gini_ref', 'c_i_parent']]\n",
    "reg2_X = sm.add_constant(reg2_X)\n",
    "reg2_y = dist_inter_gen['income_child']"
   ]
  },
  {
   "cell_type": "markdown",
   "metadata": {},
   "source": [
    "#### Version sans logarithme <a id=\"reg2-lin\" style=\"margin-left:20px\" href=\"#sommaire\" class=\"btn-sm btn-default\" > sommaire </a>"
   ]
  },
  {
   "cell_type": "code",
   "execution_count": 114,
   "metadata": {},
   "outputs": [],
   "source": [
    "# calcul du modèle\n",
    "reg2_lin_mod = sm.OLS(reg2_y, reg2_X)\n",
    "reg2_lin_res = reg2_lin_mod.fit()"
   ]
  },
  {
   "cell_type": "markdown",
   "metadata": {},
   "source": [
    "##### Analyse des résidus"
   ]
  },
  {
   "cell_type": "code",
   "execution_count": 115,
   "metadata": {},
   "outputs": [],
   "source": [
    "# on fait un df contenant les résidus pour chaque valeur prédites\n",
    "reg2_lin_residual = (pd.concat([\n",
    "                reg2_lin_res.resid,\n",
    "                reg2_lin_res.fittedvalues\n",
    "            ], axis=1)\n",
    "     .drop_duplicates()\n",
    "     .sample(5000))\n",
    "\n",
    "reg2_lin_residual.columns = ['residual', 'val_pred']"
   ]
  },
  {
   "cell_type": "markdown",
   "metadata": {},
   "source": [
    "###### Normalité de leur distribution"
   ]
  },
  {
   "cell_type": "code",
   "execution_count": 116,
   "metadata": {
    "scrolled": true
   },
   "outputs": [
    {
     "data": {
      "image/png": "[encoded data removed]",
      "text/plain": [
       "<Figure size 432x180 with 1 Axes>"
      ]
     },
     "metadata": {},
     "output_type": "display_data"
    }
   ],
   "source": [
    "# on affiche le Q-Q plot\n",
    "fig, ax = plt.subplots(figsize=(6,2.5))\n",
    "_ = st.probplot(reg2_lin_residual['residual'], plot=ax, fit=True)"
   ]
  },
  {
   "cell_type": "markdown",
   "metadata": {},
   "source": [
    "###### Égalité de leur variance"
   ]
  },
  {
   "cell_type": "code",
   "execution_count": 117,
   "metadata": {},
   "outputs": [
    {
     "data": {
      "image/png": "[encoded data removed]",
      "text/plain": [
       "<Figure size 432x288 with 1 Axes>"
      ]
     },
     "metadata": {},
     "output_type": "display_data"
    }
   ],
   "source": [
    "# on va afficher le nuage de la variance résiduelle\n",
    "plt.plot(reg2_lin_residual['val_pred'], reg2_lin_residual['residual'], '.', alpha=0.3)\n",
    "plt.xlabel('variable expliquée : log(income_child)')\n",
    "_ = plt.ylabel('résidus')"
   ]
  },
  {
   "cell_type": "markdown",
   "metadata": {},
   "source": [
    "En observant les résidus, on constate encore qu'il faut mettre au **logarithme**"
   ]
  },
  {
   "cell_type": "markdown",
   "metadata": {},
   "source": [
    "#### Version avec logarithme <a id=\"reg2-log\" style=\"margin-left:20px\" href=\"#sommaire\" class=\"btn-sm btn-default\" > sommaire </a>"
   ]
  },
  {
   "cell_type": "code",
   "execution_count": 118,
   "metadata": {},
   "outputs": [],
   "source": [
    "# mise en logarithme du GDP PPP et de income child\n",
    "\n",
    "# variables explicatives\n",
    "reg2_log_X = reg2_X.copy()\n",
    "reg2_log_X['gdpppp'] = np.log(reg2_log_X['gdpppp'])\n",
    "reg2_log_X['c_i_parent'] = np.log(reg2_log_X['c_i_parent'])\n",
    "\n",
    "# variable explilquee\n",
    "reg2_log_y = reg2_y.copy()\n",
    "reg2_log_y = np.log(reg2_log_y)"
   ]
  },
  {
   "cell_type": "code",
   "execution_count": 119,
   "metadata": {},
   "outputs": [],
   "source": [
    "# calcul du modèle\n",
    "reg2_log_mod = sm.OLS(reg2_log_y, reg2_log_X)\n",
    "reg2_log_res = reg2_log_mod.fit()"
   ]
  },
  {
   "cell_type": "markdown",
   "metadata": {},
   "source": [
    "##### Test de significativité globale \n",
    "\n",
    "On va faire un test de type **F-ratio**"
   ]
  },
  {
   "cell_type": "code",
   "execution_count": 120,
   "metadata": {},
   "outputs": [],
   "source": [
    "reg2_log_fval = reg2_log_res.fvalue\n",
    "reg2_log_f_pval = reg2_log_res.f_pvalue"
   ]
  },
  {
   "cell_type": "code",
   "execution_count": 121,
   "metadata": {},
   "outputs": [
    {
     "data": {
      "text/markdown": [
       "\n",
       "la statistique de test **F vaut 4510451** (*p-valeur = 0.00*)\n"
      ],
      "text/plain": [
       "<IPython.core.display.Markdown object>"
      ]
     },
     "metadata": {},
     "output_type": "display_data"
    }
   ],
   "source": [
    "display(Markdown(\n",
    "f\"\"\"\n",
    "la statistique de test **F vaut {reg2_log_fval:.0f}** (*p-valeur = {reg2_log_f_pval:.2f}*)\n",
    "\"\"\"))"
   ]
  },
  {
   "cell_type": "markdown",
   "metadata": {},
   "source": [
    "On peut donc **rejeter $H_0$**, et affirmer que **les coefficients sont significativement non-nuls**."
   ]
  },
  {
   "cell_type": "markdown",
   "metadata": {},
   "source": [
    "##### Analyse des résidus"
   ]
  },
  {
   "cell_type": "code",
   "execution_count": 122,
   "metadata": {},
   "outputs": [],
   "source": [
    "# on fait un df contenant les résidus pour chaque valeur prédites\n",
    "reg2_log_residual = (pd.concat([\n",
    "                reg2_log_res.resid,\n",
    "                reg2_log_res.fittedvalues\n",
    "            ], axis=1)\n",
    "     .drop_duplicates()\n",
    "     .sample(5000))\n",
    "\n",
    "reg2_log_residual.columns = ['residual', 'val_pred']"
   ]
  },
  {
   "cell_type": "markdown",
   "metadata": {},
   "source": [
    "**Normalité de leur distribution**"
   ]
  },
  {
   "cell_type": "code",
   "execution_count": 123,
   "metadata": {},
   "outputs": [
    {
     "data": {
      "image/png": "[encoded data removed]",
      "text/plain": [
       "<Figure size 576x432 with 1 Axes>"
      ]
     },
     "metadata": {},
     "output_type": "display_data"
    }
   ],
   "source": [
    "fig, ax = plt.subplots(figsize=(8,6))\n",
    "_ = st.probplot(reg2_log_residual['residual'], plot=ax, fit=True)"
   ]
  },
  {
   "cell_type": "markdown",
   "metadata": {},
   "source": [
    "**Égalité de leur variance**"
   ]
  },
  {
   "cell_type": "code",
   "execution_count": 124,
   "metadata": {
    "scrolled": true
   },
   "outputs": [
    {
     "data": {
      "image/png": "[encoded data removed]",
      "text/plain": [
       "<Figure size 576x432 with 1 Axes>"
      ]
     },
     "metadata": {},
     "output_type": "display_data"
    }
   ],
   "source": [
    "# on va afficher le nuage de la variance résiduelle\n",
    "plt.figure(figsize=(8,6))\n",
    "plt.plot(reg2_log_residual['val_pred'], reg2_log_residual['residual'], '.', alpha=0.2)\n",
    "plt.xlabel('variable expliquée : log(income_child)')\n",
    "_ = plt.ylabel('résidus')"
   ]
  },
  {
   "cell_type": "markdown",
   "metadata": {},
   "source": [
    "**Les résidus semblent suivre une loi normale** et leur **variance semble constante**.\n",
    "\n",
    "**La mise au logarithme a donnc donnée une régression linéaire viable**."
   ]
  },
  {
   "cell_type": "markdown",
   "metadata": {},
   "source": [
    "**Indépendance linéaire**"
   ]
  },
  {
   "cell_type": "code",
   "execution_count": 125,
   "metadata": {},
   "outputs": [],
   "source": [
    "reg2_log_vif = pd.DataFrame()\n",
    "reg2_log_vif[\"VIF Factor\"] = [variance_inflation_factor(reg2_log_X.values, i) for i in range(reg2_log_X.shape[1])]\n",
    "reg2_log_vif[\"features\"] = reg2_log_X.columns"
   ]
  },
  {
   "cell_type": "code",
   "execution_count": 126,
   "metadata": {
    "scrolled": true
   },
   "outputs": [
    {
     "data": {
      "text/html": [
       "<div>\n",
       "<style scoped>\n",
       "    .dataframe tbody tr th:only-of-type {\n",
       "        vertical-align: middle;\n",
       "    }\n",
       "\n",
       "    .dataframe tbody tr th {\n",
       "        vertical-align: top;\n",
       "    }\n",
       "\n",
       "    .dataframe thead th {\n",
       "        text-align: right;\n",
       "    }\n",
       "</style>\n",
       "<table border=\"1\" class=\"dataframe\">\n",
       "  <thead>\n",
       "    <tr style=\"text-align: right;\">\n",
       "      <th></th>\n",
       "      <th>VIF Factor</th>\n",
       "      <th>features</th>\n",
       "    </tr>\n",
       "  </thead>\n",
       "  <tbody>\n",
       "    <tr>\n",
       "      <th>0</th>\n",
       "      <td>121.269487</td>\n",
       "      <td>const</td>\n",
       "    </tr>\n",
       "    <tr>\n",
       "      <th>1</th>\n",
       "      <td>1.117731</td>\n",
       "      <td>gdpppp</td>\n",
       "    </tr>\n",
       "    <tr>\n",
       "      <th>2</th>\n",
       "      <td>1.117731</td>\n",
       "      <td>gini_ref</td>\n",
       "    </tr>\n",
       "    <tr>\n",
       "      <th>3</th>\n",
       "      <td>1.000001</td>\n",
       "      <td>c_i_parent</td>\n",
       "    </tr>\n",
       "  </tbody>\n",
       "</table>\n",
       "</div>"
      ],
      "text/plain": [
       "   VIF Factor    features\n",
       "0  121.269487       const\n",
       "1    1.117731      gdpppp\n",
       "2    1.117731    gini_ref\n",
       "3    1.000001  c_i_parent"
      ]
     },
     "execution_count": 126,
     "metadata": {},
     "output_type": "execute_result"
    }
   ],
   "source": [
    "reg2_log_vif"
   ]
  },
  {
   "cell_type": "markdown",
   "metadata": {},
   "source": [
    "Ici, le **VIF** de nos variables est faible (**<10**). On peut donc considérer qu'**il n'y a pas de problème de colinéarité**."
   ]
  },
  {
   "cell_type": "markdown",
   "metadata": {},
   "source": [
    "##### Individus hors normes"
   ]
  },
  {
   "cell_type": "code",
   "execution_count": 127,
   "metadata": {},
   "outputs": [],
   "source": [
    "# on récupere les distances de Cooks\n",
    "reg2_log_cooks_dist,_  = reg2_log_res.get_influence().cooks_distance\n",
    "\n",
    "# calcul du seuil, usuellement considéré a 4 / (n-p)\n",
    "n, p = reg2_log_X.shape\n",
    "reg2_log_cooks_seuil = 4 / (n-p)\n",
    "\n",
    "# on compte le nombre d'outliers\n",
    "reg2_log_nb_outlier = np.sum(reg2_log_cooks_dist > reg2_log_cooks_seuil)"
   ]
  },
  {
   "cell_type": "code",
   "execution_count": 128,
   "metadata": {},
   "outputs": [
    {
     "data": {
      "text/markdown": [
       "\n",
       "On considère que les individus ayant une **distance de Cooks > à 6.9e-07** sont des outliers influents.\n",
       "\n",
       "On en compte **344336**, soit **5.9%**.\n"
      ],
      "text/plain": [
       "<IPython.core.display.Markdown object>"
      ]
     },
     "metadata": {},
     "output_type": "display_data"
    }
   ],
   "source": [
    "display(Markdown(\n",
    "f\"\"\"\n",
    "On considère que les individus ayant une **distance de Cooks > à {reg2_log_cooks_seuil:.1e}** sont des outliers influents.\n",
    "\n",
    "On en compte **{reg2_log_nb_outlier}**, soit **{reg2_log_nb_outlier / n * 100:.1f}%**.\n",
    "\"\"\"))"
   ]
  },
  {
   "cell_type": "markdown",
   "metadata": {},
   "source": [
    "<div class=\"panel panel-info\">\n",
    "  <div class=\"panel-heading\"> \n",
    "    Question\n",
    "    <a id=\"reg2_q1\" style=\"margin-left:20px\" href=\"#sommaire\" class=\"btn-sm btn-default\" > sommaire </a>\n",
    "  </div>\n",
    "  <div class=\"panel-body\">\n",
    "   En observant le coefficient de régression associé à l’indice de Gini, peut-on affirmer que le fait de vivre dans un pays plus inégalitaire favorise plus de personnes qu’il n’en défavorise ?\n",
    "  </div>\n",
    "</div>"
   ]
  },
  {
   "cell_type": "code",
   "execution_count": 129,
   "metadata": {
    "scrolled": true
   },
   "outputs": [
    {
     "data": {
      "text/markdown": [
       "\n",
       "Le coefficient de régression associé à l'indice de Gini vaut **-0.018**.\n",
       "\n",
       "Cela signifie que, **pour GDP PPP et c_i_parents constants** : <br>\n",
       "Lorsque le Gini **augmente de 1**, le *log du revenu* diminue de **0.018** <br>\n",
       "et *le revenu* est  divisé par $e^{0.018}$  = **1.0178**.\n",
       "\n",
       "On peut généraliser pour un pas de *n* : <br>\n",
       "le log du revenu diminuera de **0.018 x n** <br>\n",
       "et le revenu sera divisé par $e^{0.018.n} = {1.0178}^n$\n",
       "\n"
      ],
      "text/plain": [
       "<IPython.core.display.Markdown object>"
      ]
     },
     "metadata": {},
     "output_type": "display_data"
    }
   ],
   "source": [
    "coef_reg_gini = reg2_log_res.params['gini_ref']\n",
    "display(Markdown(f\"\"\"\n",
    "Le coefficient de régression associé à l'indice de Gini vaut **{coef_reg_gini:.3f}**.\n",
    "\n",
    "Cela signifie que, **pour GDP PPP et c_i_parents constants** : <br>\n",
    "Lorsque le Gini **augmente de 1**, le *log du revenu* diminue de **{-coef_reg_gini:.3f}** <br>\n",
    "et *le revenu* est  divisé par $e^{{{-coef_reg_gini:.3f}}}$  = **{np.exp(-coef_reg_gini):.4f}**.\n",
    "\n",
    "On peut généraliser pour un pas de *n* : <br>\n",
    "le log du revenu diminuera de **{-coef_reg_gini:.3f} x n** <br>\n",
    "et le revenu sera divisé par $e^{{{-coef_reg_gini:.3f}.n}} = {{{np.exp(-coef_reg_gini):.4f}}}^n$\n",
    "\n",
    "\"\"\"))"
   ]
  },
  {
   "cell_type": "markdown",
   "metadata": {},
   "source": [
    "On constate que, pour un **GDP PPP et une classe revenu parent constante**, **la variation de l'indice de Gini a un impact non négligeable sur le revenu final**.\n",
    "\n",
    "Imaginons le cas extrême : <br> \n",
    "Pour **2 individus** ayant la **même classe parent**, et venant d'un pays avec **le meme GDP PPP** mais avec un indice de **Gini opposé**, l'un étant de **0**, et l'autre de **100**.\n",
    "\n",
    "Alors, notre modèle prédit que **le second indivdu gagnera 5.9 fois moins que le premier**."
   ]
  },
  {
   "cell_type": "code",
   "execution_count": 130,
   "metadata": {
    "scrolled": true
   },
   "outputs": [
    {
     "data": {
      "text/markdown": [
       "\n",
       "$y_{gini=0} = 632$ <br>\n",
       "$y_{gini=100} = 108$ <br>\n",
       "\n",
       "$ y_{gini=0} / y_{gini=100} = {5.8598}$\n"
      ],
      "text/plain": [
       "<IPython.core.display.Markdown object>"
      ]
     },
     "metadata": {},
     "output_type": "display_data"
    }
   ],
   "source": [
    "# vérificaiton empirque : on va générer deux revenus pour des ginis différents, a tout autre valeurs constantes\n",
    "\n",
    "# définition des gini\n",
    "gini_a = 0\n",
    "gini_b = 100\n",
    "\n",
    "# constantes\n",
    "log_gdpppp_c = 7\n",
    "log_c_i_parent_c = 2\n",
    "\n",
    "# prédiction des log des revenus avec notre modèle\n",
    "log_y_a = reg2_log_res.predict([1.0, log_gdpppp_c, gini_a, log_c_i_parent_c])[0]\n",
    "log_y_b = reg2_log_res.predict([1.0, log_gdpppp_c, gini_b, log_c_i_parent_c])[0]\n",
    "# log revenu --> revenu\n",
    "y_a, y_b = np.exp(log_y_a), np.exp(log_y_b)\n",
    "\n",
    "# affichage\n",
    "display(Markdown(\n",
    "f\"\"\"\n",
    "$y_{{gini={gini_a}}} = {y_a:.0f}$ <br>\n",
    "$y_{{gini={gini_b}}} = {y_b:.0f}$ <br>\n",
    "\n",
    "$ y_{{gini={gini_a}}} / y_{{gini={gini_b}}} = {{{y_a/y_b:.4f}}}$\n",
    "\"\"\"))"
   ]
  },
  {
   "cell_type": "markdown",
   "metadata": {},
   "source": [
    "<div class=\"panel panel-info\">\n",
    "  <div class=\"panel-heading\"> \n",
    "    Question\n",
    "     <a id=\"reg2_q2\" style=\"margin-left:20px\" href=\"#sommaire\" class=\"btn-sm btn-default\" > sommaire </a>\n",
    "  </div>\n",
    "  <div class=\"panel-body\">\n",
    "  Selon ce dernier modèle, donnez la décomposition de variance totale expliquée par :\n",
    "<ul>\n",
    "    <li> Le pays de naissance et le revenu des parents </li>\n",
    "    <li> Les autres facteurs non considérés dans le modèle (efforts, chance, etc.) </li>\n",
    "</ul>\n",
    "  </div>\n",
    "</div>"
   ]
  },
  {
   "cell_type": "code",
   "execution_count": 131,
   "metadata": {},
   "outputs": [],
   "source": [
    "reg2_log_sct = reg2_log_res.centered_tss\n",
    "reg2_log_sce = reg2_log_res.ess\n",
    "reg2_log_scr = reg2_log_res.ssr\n",
    "reg2_log_r2 = reg2_log_res.rsquared"
   ]
  },
  {
   "cell_type": "code",
   "execution_count": 132,
   "metadata": {
    "scrolled": true
   },
   "outputs": [
    {
     "data": {
      "text/markdown": [
       "\n",
       "La décomposition de la variance de notre modèle est : <br>\n",
       "\n",
       "**SCT = SCE + SCR**\n",
       "- SCT = 11062517 <br>\n",
       "- SCE = 7743423 <br>\n",
       "- SCR = 3319094 <br>\n",
       "\n",
       "Ce qui donne une valeur $R^2 = 0.70$\n",
       "\n",
       "Notre modèle explique donc **70% de la variance totale**.\n"
      ],
      "text/plain": [
       "<IPython.core.display.Markdown object>"
      ]
     },
     "metadata": {},
     "output_type": "display_data"
    }
   ],
   "source": [
    "display(Markdown(f\"\"\"\n",
    "La décomposition de la variance de notre modèle est : <br>\n",
    "\n",
    "**SCT = SCE + SCR**\n",
    "- SCT = {reg2_log_sct:.0f} <br>\n",
    "- SCE = {reg2_log_sce:.0f} <br>\n",
    "- SCR = {reg2_log_scr:.0f} <br>\n",
    "\n",
    "Ce qui donne une valeur $R^2 = {reg2_log_r2:.2f}$\n",
    "\n",
    "Notre modèle explique donc **{reg2_log_r2*100:.0f}% de la variance totale**.\n",
    "\"\"\"))"
   ]
  },
  {
   "cell_type": "markdown",
   "metadata": {},
   "source": [
    "----------------\n",
    "## Prédiction finale <a id=\"prediction-finale\" style=\"margin-left:20px\" href=\"#sommaire\" class=\"btn-sm btn-default\" > sommaire </a>\n",
    "\n",
    "Nous allons faire une prédiction"
   ]
  },
  {
   "cell_type": "code",
   "execution_count": 134,
   "metadata": {},
   "outputs": [
    {
     "data": {
      "text/markdown": [
       "\n",
       "Soit un parent de classe de revenu **77** *(en moyenne 22165.895)* et d'un pays dont\n",
       "- le pouvoir d'achat GDP PPP = **30357.0**\n",
       "- l'indice de Gini vaut **32.09**\n",
       "\n",
       "Alors notre modèle prédit que l'enfant gagnera **21864.49**\n"
      ],
      "text/plain": [
       "<IPython.core.display.Markdown object>"
      ]
     },
     "metadata": {},
     "output_type": "display_data"
    }
   ],
   "source": [
    "# carateristiques de l'individus :\n",
    "c_i_parent_ind = 77\n",
    "pays = 'FRA'\n",
    "# recuperation des variables liées au pays\n",
    "gdpppp_ind = gdp_ppp.loc[pays][0]\n",
    "indice_gini_ind = indice_gini_ref.loc[pays][0]\n",
    "\n",
    "# mise au logarithme\n",
    "log_gdpppp_ind = np.log(gdpppp_ind)\n",
    "log_indice_gini_ind = np.log(indice_gini_ind)\n",
    "log_c_i_parent_ind = np.log(c_i_parent_ind)\n",
    "\n",
    "# prédiction avec notre modèle\n",
    "income_child = np.exp(reg2_log_res.predict([1.0, log_gdpppp_ind, log_indice_gini_ind, log_c_i_parent_ind])[0])\n",
    "\n",
    "# on va aussi afficher le revenu moyen de la classe parent..\n",
    "c_i_parent_ind_income = dist_revenus.loc[(dist_revenus['country'] == pays) & (dist_revenus['quantile'] == 77), 'income'].values[0]\n",
    "\n",
    "display(Markdown(\n",
    "f\"\"\"\n",
    "Soit un parent de classe de revenu **{c_i_parent_ind}** *(en moyenne {c_i_parent_ind_income})* et d'un pays dont\n",
    "- le pouvoir d'achat GDP PPP = **{gdpppp_ind}**\n",
    "- l'indice de Gini vaut **{indice_gini_ind:.2f}**\n",
    "\n",
    "Alors notre modèle prédit que l'enfant gagnera **{income_child:.2f}**\n",
    "\"\"\"))"
   ]
  }
 ],
 "metadata": {
  "kernelspec": {
   "display_name": "Python 3",
   "language": "python",
   "name": "python3"
  },
  "language_info": {
   "codemirror_mode": {
    "name": "ipython",
    "version": 3
   },
   "file_extension": ".py",
   "mimetype": "text/x-python",
   "name": "python",
   "nbconvert_exporter": "python",
   "pygments_lexer": "ipython3",
   "version": "3.6.5"
  }
 },
 "nbformat": 4,
 "nbformat_minor": 2
}
